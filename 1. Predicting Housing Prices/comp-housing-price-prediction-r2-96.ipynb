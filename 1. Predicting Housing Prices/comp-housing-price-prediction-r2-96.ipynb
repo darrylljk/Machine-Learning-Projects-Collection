{
 "cells": [
  {
   "cell_type": "code",
   "execution_count": 1,
   "id": "3fa9a5de",
   "metadata": {
    "_cell_guid": "b1076dfc-b9ad-4769-8c92-a6c4dae69d19",
    "_uuid": "8f2839f25d086af736a60e9eeb907d3b93b6e0e5",
    "execution": {
     "iopub.execute_input": "2024-06-13T01:11:42.746995Z",
     "iopub.status.busy": "2024-06-13T01:11:42.746566Z",
     "iopub.status.idle": "2024-06-13T01:11:43.832886Z",
     "shell.execute_reply": "2024-06-13T01:11:43.831265Z"
    },
    "papermill": {
     "duration": 1.102571,
     "end_time": "2024-06-13T01:11:43.835815",
     "exception": false,
     "start_time": "2024-06-13T01:11:42.733244",
     "status": "completed"
    },
    "tags": []
   },
   "outputs": [
    {
     "name": "stdout",
     "output_type": "stream",
     "text": [
      "/kaggle/input/house-prices-advanced-regression-techniques/sample_submission.csv\n",
      "/kaggle/input/house-prices-advanced-regression-techniques/data_description.txt\n",
      "/kaggle/input/house-prices-advanced-regression-techniques/train.csv\n",
      "/kaggle/input/house-prices-advanced-regression-techniques/test.csv\n"
     ]
    }
   ],
   "source": [
    "import numpy as np \n",
    "import pandas as pd\n",
    "\n",
    "import os\n",
    "for dirname, _, filenames in os.walk('/kaggle/input'):\n",
    "    for filename in filenames:\n",
    "        print(os.path.join(dirname, filename))\n",
    "\n",
    "# You can write up to 20GB to the current directory (/kaggle/working/) that gets preserved as output when you create a version using \"Save & Run All\" \n",
    "# You can also write temporary files to /kaggle/temp/, but they won't be saved outside of the current session"
   ]
  },
  {
   "cell_type": "markdown",
   "id": "1f9dfc3f",
   "metadata": {
    "papermill": {
     "duration": 0.010703,
     "end_time": "2024-06-13T01:11:43.857783",
     "exception": false,
     "start_time": "2024-06-13T01:11:43.847080",
     "status": "completed"
    },
    "tags": []
   },
   "source": [
    "# 1. Import package and data"
   ]
  },
  {
   "cell_type": "code",
   "execution_count": 2,
   "id": "962abdaa",
   "metadata": {
    "execution": {
     "iopub.execute_input": "2024-06-13T01:11:43.883728Z",
     "iopub.status.busy": "2024-06-13T01:11:43.882191Z",
     "iopub.status.idle": "2024-06-13T01:11:45.819731Z",
     "shell.execute_reply": "2024-06-13T01:11:45.818381Z"
    },
    "papermill": {
     "duration": 1.953271,
     "end_time": "2024-06-13T01:11:45.822526",
     "exception": false,
     "start_time": "2024-06-13T01:11:43.869255",
     "status": "completed"
    },
    "tags": []
   },
   "outputs": [],
   "source": [
    "import numpy as np \n",
    "import pandas as pd\n",
    "import matplotlib.pyplot as plt\n",
    "import seaborn as sns\n",
    "\n",
    "from sklearn.linear_model import Ridge\n",
    "from sklearn.model_selection import cross_val_score\n",
    "\n",
    "import warnings\n",
    "warnings.filterwarnings('ignore')"
   ]
  },
  {
   "cell_type": "code",
   "execution_count": 3,
   "id": "35470032",
   "metadata": {
    "execution": {
     "iopub.execute_input": "2024-06-13T01:11:45.848485Z",
     "iopub.status.busy": "2024-06-13T01:11:45.848027Z",
     "iopub.status.idle": "2024-06-13T01:11:45.946690Z",
     "shell.execute_reply": "2024-06-13T01:11:45.945342Z"
    },
    "papermill": {
     "duration": 0.113908,
     "end_time": "2024-06-13T01:11:45.949520",
     "exception": false,
     "start_time": "2024-06-13T01:11:45.835612",
     "status": "completed"
    },
    "tags": []
   },
   "outputs": [],
   "source": [
    "df_train = pd.read_csv('/kaggle/input/house-prices-advanced-regression-techniques/train.csv')\n",
    "df_test = pd.read_csv('/kaggle/input/house-prices-advanced-regression-techniques/test.csv')"
   ]
  },
  {
   "cell_type": "code",
   "execution_count": 4,
   "id": "91ad0c94",
   "metadata": {
    "execution": {
     "iopub.execute_input": "2024-06-13T01:11:45.974005Z",
     "iopub.status.busy": "2024-06-13T01:11:45.973448Z",
     "iopub.status.idle": "2024-06-13T01:11:45.982885Z",
     "shell.execute_reply": "2024-06-13T01:11:45.981456Z"
    },
    "papermill": {
     "duration": 0.024731,
     "end_time": "2024-06-13T01:11:45.985763",
     "exception": false,
     "start_time": "2024-06-13T01:11:45.961032",
     "status": "completed"
    },
    "tags": []
   },
   "outputs": [
    {
     "data": {
      "text/plain": [
       "((1460, 81), (1459, 80))"
      ]
     },
     "execution_count": 4,
     "metadata": {},
     "output_type": "execute_result"
    }
   ],
   "source": [
    "df_train.shape, df_test.shape"
   ]
  },
  {
   "cell_type": "code",
   "execution_count": 5,
   "id": "7c6ad372",
   "metadata": {
    "execution": {
     "iopub.execute_input": "2024-06-13T01:11:46.012897Z",
     "iopub.status.busy": "2024-06-13T01:11:46.012509Z",
     "iopub.status.idle": "2024-06-13T01:11:46.056541Z",
     "shell.execute_reply": "2024-06-13T01:11:46.055223Z"
    },
    "papermill": {
     "duration": 0.061836,
     "end_time": "2024-06-13T01:11:46.059238",
     "exception": false,
     "start_time": "2024-06-13T01:11:45.997402",
     "status": "completed"
    },
    "tags": []
   },
   "outputs": [
    {
     "data": {
      "text/html": [
       "<div>\n",
       "<style scoped>\n",
       "    .dataframe tbody tr th:only-of-type {\n",
       "        vertical-align: middle;\n",
       "    }\n",
       "\n",
       "    .dataframe tbody tr th {\n",
       "        vertical-align: top;\n",
       "    }\n",
       "\n",
       "    .dataframe thead th {\n",
       "        text-align: right;\n",
       "    }\n",
       "</style>\n",
       "<table border=\"1\" class=\"dataframe\">\n",
       "  <thead>\n",
       "    <tr style=\"text-align: right;\">\n",
       "      <th></th>\n",
       "      <th>Id</th>\n",
       "      <th>MSSubClass</th>\n",
       "      <th>MSZoning</th>\n",
       "      <th>LotFrontage</th>\n",
       "      <th>LotArea</th>\n",
       "      <th>Street</th>\n",
       "      <th>Alley</th>\n",
       "      <th>LotShape</th>\n",
       "      <th>LandContour</th>\n",
       "      <th>Utilities</th>\n",
       "      <th>...</th>\n",
       "      <th>PoolArea</th>\n",
       "      <th>PoolQC</th>\n",
       "      <th>Fence</th>\n",
       "      <th>MiscFeature</th>\n",
       "      <th>MiscVal</th>\n",
       "      <th>MoSold</th>\n",
       "      <th>YrSold</th>\n",
       "      <th>SaleType</th>\n",
       "      <th>SaleCondition</th>\n",
       "      <th>SalePrice</th>\n",
       "    </tr>\n",
       "  </thead>\n",
       "  <tbody>\n",
       "    <tr>\n",
       "      <th>0</th>\n",
       "      <td>1</td>\n",
       "      <td>60</td>\n",
       "      <td>RL</td>\n",
       "      <td>65.0</td>\n",
       "      <td>8450</td>\n",
       "      <td>Pave</td>\n",
       "      <td>NaN</td>\n",
       "      <td>Reg</td>\n",
       "      <td>Lvl</td>\n",
       "      <td>AllPub</td>\n",
       "      <td>...</td>\n",
       "      <td>0</td>\n",
       "      <td>NaN</td>\n",
       "      <td>NaN</td>\n",
       "      <td>NaN</td>\n",
       "      <td>0</td>\n",
       "      <td>2</td>\n",
       "      <td>2008</td>\n",
       "      <td>WD</td>\n",
       "      <td>Normal</td>\n",
       "      <td>208500</td>\n",
       "    </tr>\n",
       "    <tr>\n",
       "      <th>1</th>\n",
       "      <td>2</td>\n",
       "      <td>20</td>\n",
       "      <td>RL</td>\n",
       "      <td>80.0</td>\n",
       "      <td>9600</td>\n",
       "      <td>Pave</td>\n",
       "      <td>NaN</td>\n",
       "      <td>Reg</td>\n",
       "      <td>Lvl</td>\n",
       "      <td>AllPub</td>\n",
       "      <td>...</td>\n",
       "      <td>0</td>\n",
       "      <td>NaN</td>\n",
       "      <td>NaN</td>\n",
       "      <td>NaN</td>\n",
       "      <td>0</td>\n",
       "      <td>5</td>\n",
       "      <td>2007</td>\n",
       "      <td>WD</td>\n",
       "      <td>Normal</td>\n",
       "      <td>181500</td>\n",
       "    </tr>\n",
       "    <tr>\n",
       "      <th>2</th>\n",
       "      <td>3</td>\n",
       "      <td>60</td>\n",
       "      <td>RL</td>\n",
       "      <td>68.0</td>\n",
       "      <td>11250</td>\n",
       "      <td>Pave</td>\n",
       "      <td>NaN</td>\n",
       "      <td>IR1</td>\n",
       "      <td>Lvl</td>\n",
       "      <td>AllPub</td>\n",
       "      <td>...</td>\n",
       "      <td>0</td>\n",
       "      <td>NaN</td>\n",
       "      <td>NaN</td>\n",
       "      <td>NaN</td>\n",
       "      <td>0</td>\n",
       "      <td>9</td>\n",
       "      <td>2008</td>\n",
       "      <td>WD</td>\n",
       "      <td>Normal</td>\n",
       "      <td>223500</td>\n",
       "    </tr>\n",
       "    <tr>\n",
       "      <th>3</th>\n",
       "      <td>4</td>\n",
       "      <td>70</td>\n",
       "      <td>RL</td>\n",
       "      <td>60.0</td>\n",
       "      <td>9550</td>\n",
       "      <td>Pave</td>\n",
       "      <td>NaN</td>\n",
       "      <td>IR1</td>\n",
       "      <td>Lvl</td>\n",
       "      <td>AllPub</td>\n",
       "      <td>...</td>\n",
       "      <td>0</td>\n",
       "      <td>NaN</td>\n",
       "      <td>NaN</td>\n",
       "      <td>NaN</td>\n",
       "      <td>0</td>\n",
       "      <td>2</td>\n",
       "      <td>2006</td>\n",
       "      <td>WD</td>\n",
       "      <td>Abnorml</td>\n",
       "      <td>140000</td>\n",
       "    </tr>\n",
       "    <tr>\n",
       "      <th>4</th>\n",
       "      <td>5</td>\n",
       "      <td>60</td>\n",
       "      <td>RL</td>\n",
       "      <td>84.0</td>\n",
       "      <td>14260</td>\n",
       "      <td>Pave</td>\n",
       "      <td>NaN</td>\n",
       "      <td>IR1</td>\n",
       "      <td>Lvl</td>\n",
       "      <td>AllPub</td>\n",
       "      <td>...</td>\n",
       "      <td>0</td>\n",
       "      <td>NaN</td>\n",
       "      <td>NaN</td>\n",
       "      <td>NaN</td>\n",
       "      <td>0</td>\n",
       "      <td>12</td>\n",
       "      <td>2008</td>\n",
       "      <td>WD</td>\n",
       "      <td>Normal</td>\n",
       "      <td>250000</td>\n",
       "    </tr>\n",
       "  </tbody>\n",
       "</table>\n",
       "<p>5 rows × 81 columns</p>\n",
       "</div>"
      ],
      "text/plain": [
       "   Id  MSSubClass MSZoning  LotFrontage  LotArea Street Alley LotShape  \\\n",
       "0   1          60       RL         65.0     8450   Pave   NaN      Reg   \n",
       "1   2          20       RL         80.0     9600   Pave   NaN      Reg   \n",
       "2   3          60       RL         68.0    11250   Pave   NaN      IR1   \n",
       "3   4          70       RL         60.0     9550   Pave   NaN      IR1   \n",
       "4   5          60       RL         84.0    14260   Pave   NaN      IR1   \n",
       "\n",
       "  LandContour Utilities  ... PoolArea PoolQC Fence MiscFeature MiscVal MoSold  \\\n",
       "0         Lvl    AllPub  ...        0    NaN   NaN         NaN       0      2   \n",
       "1         Lvl    AllPub  ...        0    NaN   NaN         NaN       0      5   \n",
       "2         Lvl    AllPub  ...        0    NaN   NaN         NaN       0      9   \n",
       "3         Lvl    AllPub  ...        0    NaN   NaN         NaN       0      2   \n",
       "4         Lvl    AllPub  ...        0    NaN   NaN         NaN       0     12   \n",
       "\n",
       "  YrSold  SaleType  SaleCondition  SalePrice  \n",
       "0   2008        WD         Normal     208500  \n",
       "1   2007        WD         Normal     181500  \n",
       "2   2008        WD         Normal     223500  \n",
       "3   2006        WD        Abnorml     140000  \n",
       "4   2008        WD         Normal     250000  \n",
       "\n",
       "[5 rows x 81 columns]"
      ]
     },
     "execution_count": 5,
     "metadata": {},
     "output_type": "execute_result"
    }
   ],
   "source": [
    "df_train.head()"
   ]
  },
  {
   "cell_type": "markdown",
   "id": "11939d1f",
   "metadata": {
    "papermill": {
     "duration": 0.010873,
     "end_time": "2024-06-13T01:11:46.081495",
     "exception": false,
     "start_time": "2024-06-13T01:11:46.070622",
     "status": "completed"
    },
    "tags": []
   },
   "source": [
    "There are 79 features and 1 label (SalePrice) in our dataset"
   ]
  },
  {
   "cell_type": "code",
   "execution_count": 6,
   "id": "8f0ca79e",
   "metadata": {
    "execution": {
     "iopub.execute_input": "2024-06-13T01:11:46.106789Z",
     "iopub.status.busy": "2024-06-13T01:11:46.105555Z",
     "iopub.status.idle": "2024-06-13T01:11:46.203375Z",
     "shell.execute_reply": "2024-06-13T01:11:46.201933Z"
    },
    "papermill": {
     "duration": 0.113056,
     "end_time": "2024-06-13T01:11:46.205797",
     "exception": false,
     "start_time": "2024-06-13T01:11:46.092741",
     "status": "completed"
    },
    "tags": []
   },
   "outputs": [
    {
     "data": {
      "text/html": [
       "<div>\n",
       "<style scoped>\n",
       "    .dataframe tbody tr th:only-of-type {\n",
       "        vertical-align: middle;\n",
       "    }\n",
       "\n",
       "    .dataframe tbody tr th {\n",
       "        vertical-align: top;\n",
       "    }\n",
       "\n",
       "    .dataframe thead th {\n",
       "        text-align: right;\n",
       "    }\n",
       "</style>\n",
       "<table border=\"1\" class=\"dataframe\">\n",
       "  <thead>\n",
       "    <tr style=\"text-align: right;\">\n",
       "      <th></th>\n",
       "      <th>Id</th>\n",
       "      <th>MSSubClass</th>\n",
       "      <th>LotFrontage</th>\n",
       "      <th>LotArea</th>\n",
       "      <th>OverallQual</th>\n",
       "      <th>OverallCond</th>\n",
       "      <th>YearBuilt</th>\n",
       "      <th>YearRemodAdd</th>\n",
       "      <th>MasVnrArea</th>\n",
       "      <th>BsmtFinSF1</th>\n",
       "      <th>...</th>\n",
       "      <th>WoodDeckSF</th>\n",
       "      <th>OpenPorchSF</th>\n",
       "      <th>EnclosedPorch</th>\n",
       "      <th>3SsnPorch</th>\n",
       "      <th>ScreenPorch</th>\n",
       "      <th>PoolArea</th>\n",
       "      <th>MiscVal</th>\n",
       "      <th>MoSold</th>\n",
       "      <th>YrSold</th>\n",
       "      <th>SalePrice</th>\n",
       "    </tr>\n",
       "  </thead>\n",
       "  <tbody>\n",
       "    <tr>\n",
       "      <th>count</th>\n",
       "      <td>1460.000000</td>\n",
       "      <td>1460.000000</td>\n",
       "      <td>1201.000000</td>\n",
       "      <td>1460.000000</td>\n",
       "      <td>1460.000000</td>\n",
       "      <td>1460.000000</td>\n",
       "      <td>1460.000000</td>\n",
       "      <td>1460.000000</td>\n",
       "      <td>1452.000000</td>\n",
       "      <td>1460.000000</td>\n",
       "      <td>...</td>\n",
       "      <td>1460.000000</td>\n",
       "      <td>1460.000000</td>\n",
       "      <td>1460.000000</td>\n",
       "      <td>1460.000000</td>\n",
       "      <td>1460.000000</td>\n",
       "      <td>1460.000000</td>\n",
       "      <td>1460.000000</td>\n",
       "      <td>1460.000000</td>\n",
       "      <td>1460.000000</td>\n",
       "      <td>1460.000000</td>\n",
       "    </tr>\n",
       "    <tr>\n",
       "      <th>mean</th>\n",
       "      <td>730.500000</td>\n",
       "      <td>56.897260</td>\n",
       "      <td>70.049958</td>\n",
       "      <td>10516.828082</td>\n",
       "      <td>6.099315</td>\n",
       "      <td>5.575342</td>\n",
       "      <td>1971.267808</td>\n",
       "      <td>1984.865753</td>\n",
       "      <td>103.685262</td>\n",
       "      <td>443.639726</td>\n",
       "      <td>...</td>\n",
       "      <td>94.244521</td>\n",
       "      <td>46.660274</td>\n",
       "      <td>21.954110</td>\n",
       "      <td>3.409589</td>\n",
       "      <td>15.060959</td>\n",
       "      <td>2.758904</td>\n",
       "      <td>43.489041</td>\n",
       "      <td>6.321918</td>\n",
       "      <td>2007.815753</td>\n",
       "      <td>180921.195890</td>\n",
       "    </tr>\n",
       "    <tr>\n",
       "      <th>std</th>\n",
       "      <td>421.610009</td>\n",
       "      <td>42.300571</td>\n",
       "      <td>24.284752</td>\n",
       "      <td>9981.264932</td>\n",
       "      <td>1.382997</td>\n",
       "      <td>1.112799</td>\n",
       "      <td>30.202904</td>\n",
       "      <td>20.645407</td>\n",
       "      <td>181.066207</td>\n",
       "      <td>456.098091</td>\n",
       "      <td>...</td>\n",
       "      <td>125.338794</td>\n",
       "      <td>66.256028</td>\n",
       "      <td>61.119149</td>\n",
       "      <td>29.317331</td>\n",
       "      <td>55.757415</td>\n",
       "      <td>40.177307</td>\n",
       "      <td>496.123024</td>\n",
       "      <td>2.703626</td>\n",
       "      <td>1.328095</td>\n",
       "      <td>79442.502883</td>\n",
       "    </tr>\n",
       "    <tr>\n",
       "      <th>min</th>\n",
       "      <td>1.000000</td>\n",
       "      <td>20.000000</td>\n",
       "      <td>21.000000</td>\n",
       "      <td>1300.000000</td>\n",
       "      <td>1.000000</td>\n",
       "      <td>1.000000</td>\n",
       "      <td>1872.000000</td>\n",
       "      <td>1950.000000</td>\n",
       "      <td>0.000000</td>\n",
       "      <td>0.000000</td>\n",
       "      <td>...</td>\n",
       "      <td>0.000000</td>\n",
       "      <td>0.000000</td>\n",
       "      <td>0.000000</td>\n",
       "      <td>0.000000</td>\n",
       "      <td>0.000000</td>\n",
       "      <td>0.000000</td>\n",
       "      <td>0.000000</td>\n",
       "      <td>1.000000</td>\n",
       "      <td>2006.000000</td>\n",
       "      <td>34900.000000</td>\n",
       "    </tr>\n",
       "    <tr>\n",
       "      <th>25%</th>\n",
       "      <td>365.750000</td>\n",
       "      <td>20.000000</td>\n",
       "      <td>59.000000</td>\n",
       "      <td>7553.500000</td>\n",
       "      <td>5.000000</td>\n",
       "      <td>5.000000</td>\n",
       "      <td>1954.000000</td>\n",
       "      <td>1967.000000</td>\n",
       "      <td>0.000000</td>\n",
       "      <td>0.000000</td>\n",
       "      <td>...</td>\n",
       "      <td>0.000000</td>\n",
       "      <td>0.000000</td>\n",
       "      <td>0.000000</td>\n",
       "      <td>0.000000</td>\n",
       "      <td>0.000000</td>\n",
       "      <td>0.000000</td>\n",
       "      <td>0.000000</td>\n",
       "      <td>5.000000</td>\n",
       "      <td>2007.000000</td>\n",
       "      <td>129975.000000</td>\n",
       "    </tr>\n",
       "    <tr>\n",
       "      <th>50%</th>\n",
       "      <td>730.500000</td>\n",
       "      <td>50.000000</td>\n",
       "      <td>69.000000</td>\n",
       "      <td>9478.500000</td>\n",
       "      <td>6.000000</td>\n",
       "      <td>5.000000</td>\n",
       "      <td>1973.000000</td>\n",
       "      <td>1994.000000</td>\n",
       "      <td>0.000000</td>\n",
       "      <td>383.500000</td>\n",
       "      <td>...</td>\n",
       "      <td>0.000000</td>\n",
       "      <td>25.000000</td>\n",
       "      <td>0.000000</td>\n",
       "      <td>0.000000</td>\n",
       "      <td>0.000000</td>\n",
       "      <td>0.000000</td>\n",
       "      <td>0.000000</td>\n",
       "      <td>6.000000</td>\n",
       "      <td>2008.000000</td>\n",
       "      <td>163000.000000</td>\n",
       "    </tr>\n",
       "    <tr>\n",
       "      <th>75%</th>\n",
       "      <td>1095.250000</td>\n",
       "      <td>70.000000</td>\n",
       "      <td>80.000000</td>\n",
       "      <td>11601.500000</td>\n",
       "      <td>7.000000</td>\n",
       "      <td>6.000000</td>\n",
       "      <td>2000.000000</td>\n",
       "      <td>2004.000000</td>\n",
       "      <td>166.000000</td>\n",
       "      <td>712.250000</td>\n",
       "      <td>...</td>\n",
       "      <td>168.000000</td>\n",
       "      <td>68.000000</td>\n",
       "      <td>0.000000</td>\n",
       "      <td>0.000000</td>\n",
       "      <td>0.000000</td>\n",
       "      <td>0.000000</td>\n",
       "      <td>0.000000</td>\n",
       "      <td>8.000000</td>\n",
       "      <td>2009.000000</td>\n",
       "      <td>214000.000000</td>\n",
       "    </tr>\n",
       "    <tr>\n",
       "      <th>max</th>\n",
       "      <td>1460.000000</td>\n",
       "      <td>190.000000</td>\n",
       "      <td>313.000000</td>\n",
       "      <td>215245.000000</td>\n",
       "      <td>10.000000</td>\n",
       "      <td>9.000000</td>\n",
       "      <td>2010.000000</td>\n",
       "      <td>2010.000000</td>\n",
       "      <td>1600.000000</td>\n",
       "      <td>5644.000000</td>\n",
       "      <td>...</td>\n",
       "      <td>857.000000</td>\n",
       "      <td>547.000000</td>\n",
       "      <td>552.000000</td>\n",
       "      <td>508.000000</td>\n",
       "      <td>480.000000</td>\n",
       "      <td>738.000000</td>\n",
       "      <td>15500.000000</td>\n",
       "      <td>12.000000</td>\n",
       "      <td>2010.000000</td>\n",
       "      <td>755000.000000</td>\n",
       "    </tr>\n",
       "  </tbody>\n",
       "</table>\n",
       "<p>8 rows × 38 columns</p>\n",
       "</div>"
      ],
      "text/plain": [
       "                Id   MSSubClass  LotFrontage        LotArea  OverallQual  \\\n",
       "count  1460.000000  1460.000000  1201.000000    1460.000000  1460.000000   \n",
       "mean    730.500000    56.897260    70.049958   10516.828082     6.099315   \n",
       "std     421.610009    42.300571    24.284752    9981.264932     1.382997   \n",
       "min       1.000000    20.000000    21.000000    1300.000000     1.000000   \n",
       "25%     365.750000    20.000000    59.000000    7553.500000     5.000000   \n",
       "50%     730.500000    50.000000    69.000000    9478.500000     6.000000   \n",
       "75%    1095.250000    70.000000    80.000000   11601.500000     7.000000   \n",
       "max    1460.000000   190.000000   313.000000  215245.000000    10.000000   \n",
       "\n",
       "       OverallCond    YearBuilt  YearRemodAdd   MasVnrArea   BsmtFinSF1  ...  \\\n",
       "count  1460.000000  1460.000000   1460.000000  1452.000000  1460.000000  ...   \n",
       "mean      5.575342  1971.267808   1984.865753   103.685262   443.639726  ...   \n",
       "std       1.112799    30.202904     20.645407   181.066207   456.098091  ...   \n",
       "min       1.000000  1872.000000   1950.000000     0.000000     0.000000  ...   \n",
       "25%       5.000000  1954.000000   1967.000000     0.000000     0.000000  ...   \n",
       "50%       5.000000  1973.000000   1994.000000     0.000000   383.500000  ...   \n",
       "75%       6.000000  2000.000000   2004.000000   166.000000   712.250000  ...   \n",
       "max       9.000000  2010.000000   2010.000000  1600.000000  5644.000000  ...   \n",
       "\n",
       "        WoodDeckSF  OpenPorchSF  EnclosedPorch    3SsnPorch  ScreenPorch  \\\n",
       "count  1460.000000  1460.000000    1460.000000  1460.000000  1460.000000   \n",
       "mean     94.244521    46.660274      21.954110     3.409589    15.060959   \n",
       "std     125.338794    66.256028      61.119149    29.317331    55.757415   \n",
       "min       0.000000     0.000000       0.000000     0.000000     0.000000   \n",
       "25%       0.000000     0.000000       0.000000     0.000000     0.000000   \n",
       "50%       0.000000    25.000000       0.000000     0.000000     0.000000   \n",
       "75%     168.000000    68.000000       0.000000     0.000000     0.000000   \n",
       "max     857.000000   547.000000     552.000000   508.000000   480.000000   \n",
       "\n",
       "          PoolArea       MiscVal       MoSold       YrSold      SalePrice  \n",
       "count  1460.000000   1460.000000  1460.000000  1460.000000    1460.000000  \n",
       "mean      2.758904     43.489041     6.321918  2007.815753  180921.195890  \n",
       "std      40.177307    496.123024     2.703626     1.328095   79442.502883  \n",
       "min       0.000000      0.000000     1.000000  2006.000000   34900.000000  \n",
       "25%       0.000000      0.000000     5.000000  2007.000000  129975.000000  \n",
       "50%       0.000000      0.000000     6.000000  2008.000000  163000.000000  \n",
       "75%       0.000000      0.000000     8.000000  2009.000000  214000.000000  \n",
       "max     738.000000  15500.000000    12.000000  2010.000000  755000.000000  \n",
       "\n",
       "[8 rows x 38 columns]"
      ]
     },
     "execution_count": 6,
     "metadata": {},
     "output_type": "execute_result"
    }
   ],
   "source": [
    "# 38 numerical columns\n",
    "df_train.describe()"
   ]
  },
  {
   "cell_type": "code",
   "execution_count": 7,
   "id": "7669180f",
   "metadata": {
    "execution": {
     "iopub.execute_input": "2024-06-13T01:11:46.232192Z",
     "iopub.status.busy": "2024-06-13T01:11:46.230723Z",
     "iopub.status.idle": "2024-06-13T01:11:46.262635Z",
     "shell.execute_reply": "2024-06-13T01:11:46.261321Z"
    },
    "papermill": {
     "duration": 0.048705,
     "end_time": "2024-06-13T01:11:46.266144",
     "exception": false,
     "start_time": "2024-06-13T01:11:46.217439",
     "status": "completed"
    },
    "tags": []
   },
   "outputs": [
    {
     "name": "stdout",
     "output_type": "stream",
     "text": [
      "<class 'pandas.core.frame.DataFrame'>\n",
      "RangeIndex: 1460 entries, 0 to 1459\n",
      "Data columns (total 81 columns):\n",
      " #   Column         Non-Null Count  Dtype  \n",
      "---  ------         --------------  -----  \n",
      " 0   Id             1460 non-null   int64  \n",
      " 1   MSSubClass     1460 non-null   int64  \n",
      " 2   MSZoning       1460 non-null   object \n",
      " 3   LotFrontage    1201 non-null   float64\n",
      " 4   LotArea        1460 non-null   int64  \n",
      " 5   Street         1460 non-null   object \n",
      " 6   Alley          91 non-null     object \n",
      " 7   LotShape       1460 non-null   object \n",
      " 8   LandContour    1460 non-null   object \n",
      " 9   Utilities      1460 non-null   object \n",
      " 10  LotConfig      1460 non-null   object \n",
      " 11  LandSlope      1460 non-null   object \n",
      " 12  Neighborhood   1460 non-null   object \n",
      " 13  Condition1     1460 non-null   object \n",
      " 14  Condition2     1460 non-null   object \n",
      " 15  BldgType       1460 non-null   object \n",
      " 16  HouseStyle     1460 non-null   object \n",
      " 17  OverallQual    1460 non-null   int64  \n",
      " 18  OverallCond    1460 non-null   int64  \n",
      " 19  YearBuilt      1460 non-null   int64  \n",
      " 20  YearRemodAdd   1460 non-null   int64  \n",
      " 21  RoofStyle      1460 non-null   object \n",
      " 22  RoofMatl       1460 non-null   object \n",
      " 23  Exterior1st    1460 non-null   object \n",
      " 24  Exterior2nd    1460 non-null   object \n",
      " 25  MasVnrType     588 non-null    object \n",
      " 26  MasVnrArea     1452 non-null   float64\n",
      " 27  ExterQual      1460 non-null   object \n",
      " 28  ExterCond      1460 non-null   object \n",
      " 29  Foundation     1460 non-null   object \n",
      " 30  BsmtQual       1423 non-null   object \n",
      " 31  BsmtCond       1423 non-null   object \n",
      " 32  BsmtExposure   1422 non-null   object \n",
      " 33  BsmtFinType1   1423 non-null   object \n",
      " 34  BsmtFinSF1     1460 non-null   int64  \n",
      " 35  BsmtFinType2   1422 non-null   object \n",
      " 36  BsmtFinSF2     1460 non-null   int64  \n",
      " 37  BsmtUnfSF      1460 non-null   int64  \n",
      " 38  TotalBsmtSF    1460 non-null   int64  \n",
      " 39  Heating        1460 non-null   object \n",
      " 40  HeatingQC      1460 non-null   object \n",
      " 41  CentralAir     1460 non-null   object \n",
      " 42  Electrical     1459 non-null   object \n",
      " 43  1stFlrSF       1460 non-null   int64  \n",
      " 44  2ndFlrSF       1460 non-null   int64  \n",
      " 45  LowQualFinSF   1460 non-null   int64  \n",
      " 46  GrLivArea      1460 non-null   int64  \n",
      " 47  BsmtFullBath   1460 non-null   int64  \n",
      " 48  BsmtHalfBath   1460 non-null   int64  \n",
      " 49  FullBath       1460 non-null   int64  \n",
      " 50  HalfBath       1460 non-null   int64  \n",
      " 51  BedroomAbvGr   1460 non-null   int64  \n",
      " 52  KitchenAbvGr   1460 non-null   int64  \n",
      " 53  KitchenQual    1460 non-null   object \n",
      " 54  TotRmsAbvGrd   1460 non-null   int64  \n",
      " 55  Functional     1460 non-null   object \n",
      " 56  Fireplaces     1460 non-null   int64  \n",
      " 57  FireplaceQu    770 non-null    object \n",
      " 58  GarageType     1379 non-null   object \n",
      " 59  GarageYrBlt    1379 non-null   float64\n",
      " 60  GarageFinish   1379 non-null   object \n",
      " 61  GarageCars     1460 non-null   int64  \n",
      " 62  GarageArea     1460 non-null   int64  \n",
      " 63  GarageQual     1379 non-null   object \n",
      " 64  GarageCond     1379 non-null   object \n",
      " 65  PavedDrive     1460 non-null   object \n",
      " 66  WoodDeckSF     1460 non-null   int64  \n",
      " 67  OpenPorchSF    1460 non-null   int64  \n",
      " 68  EnclosedPorch  1460 non-null   int64  \n",
      " 69  3SsnPorch      1460 non-null   int64  \n",
      " 70  ScreenPorch    1460 non-null   int64  \n",
      " 71  PoolArea       1460 non-null   int64  \n",
      " 72  PoolQC         7 non-null      object \n",
      " 73  Fence          281 non-null    object \n",
      " 74  MiscFeature    54 non-null     object \n",
      " 75  MiscVal        1460 non-null   int64  \n",
      " 76  MoSold         1460 non-null   int64  \n",
      " 77  YrSold         1460 non-null   int64  \n",
      " 78  SaleType       1460 non-null   object \n",
      " 79  SaleCondition  1460 non-null   object \n",
      " 80  SalePrice      1460 non-null   int64  \n",
      "dtypes: float64(3), int64(35), object(43)\n",
      "memory usage: 924.0+ KB\n"
     ]
    }
   ],
   "source": [
    "# check for missing data\n",
    "df_train.info()"
   ]
  },
  {
   "cell_type": "code",
   "execution_count": 8,
   "id": "a938539b",
   "metadata": {
    "execution": {
     "iopub.execute_input": "2024-06-13T01:11:46.291748Z",
     "iopub.status.busy": "2024-06-13T01:11:46.291266Z",
     "iopub.status.idle": "2024-06-13T01:11:46.304493Z",
     "shell.execute_reply": "2024-06-13T01:11:46.303260Z"
    },
    "papermill": {
     "duration": 0.029561,
     "end_time": "2024-06-13T01:11:46.307599",
     "exception": false,
     "start_time": "2024-06-13T01:11:46.278038",
     "status": "completed"
    },
    "tags": []
   },
   "outputs": [
    {
     "data": {
      "text/plain": [
       "count      1460.000000\n",
       "mean     180921.195890\n",
       "std       79442.502883\n",
       "min       34900.000000\n",
       "25%      129975.000000\n",
       "50%      163000.000000\n",
       "75%      214000.000000\n",
       "max      755000.000000\n",
       "Name: SalePrice, dtype: float64"
      ]
     },
     "execution_count": 8,
     "metadata": {},
     "output_type": "execute_result"
    }
   ],
   "source": [
    "# Check distribution of label (SalePrice)\n",
    "df_train.SalePrice.describe()"
   ]
  },
  {
   "cell_type": "markdown",
   "id": "e334d709",
   "metadata": {
    "papermill": {
     "duration": 0.011746,
     "end_time": "2024-06-13T01:11:46.331603",
     "exception": false,
     "start_time": "2024-06-13T01:11:46.319857",
     "status": "completed"
    },
    "tags": []
   },
   "source": [
    "No missing data for target label. Mean sale price = $180,921"
   ]
  },
  {
   "cell_type": "code",
   "execution_count": 9,
   "id": "d3d711ca",
   "metadata": {
    "execution": {
     "iopub.execute_input": "2024-06-13T01:11:46.357359Z",
     "iopub.status.busy": "2024-06-13T01:11:46.356929Z",
     "iopub.status.idle": "2024-06-13T01:11:46.879769Z",
     "shell.execute_reply": "2024-06-13T01:11:46.878314Z"
    },
    "papermill": {
     "duration": 0.539686,
     "end_time": "2024-06-13T01:11:46.883166",
     "exception": false,
     "start_time": "2024-06-13T01:11:46.343480",
     "status": "completed"
    },
    "tags": []
   },
   "outputs": [
    {
     "data": {
      "text/plain": [
       "<seaborn.axisgrid.FacetGrid at 0x7be9a0844700>"
      ]
     },
     "execution_count": 9,
     "metadata": {},
     "output_type": "execute_result"
    },
    {
     "data": {
      "image/png": "[encoded data removed]",
      "text/plain": [
       "<Figure size 500x500 with 1 Axes>"
      ]
     },
     "metadata": {},
     "output_type": "display_data"
    }
   ],
   "source": [
    "# data is right skewed\n",
    "sns.displot(df_train.SalePrice)"
   ]
  },
  {
   "cell_type": "code",
   "execution_count": 10,
   "id": "f562a99f",
   "metadata": {
    "execution": {
     "iopub.execute_input": "2024-06-13T01:11:46.921785Z",
     "iopub.status.busy": "2024-06-13T01:11:46.920461Z",
     "iopub.status.idle": "2024-06-13T01:11:47.879296Z",
     "shell.execute_reply": "2024-06-13T01:11:47.878211Z"
    },
    "papermill": {
     "duration": 0.98173,
     "end_time": "2024-06-13T01:11:47.883189",
     "exception": false,
     "start_time": "2024-06-13T01:11:46.901459",
     "status": "completed"
    },
    "tags": []
   },
   "outputs": [
    {
     "data": {
      "text/plain": [
       "<Axes: >"
      ]
     },
     "execution_count": 10,
     "metadata": {},
     "output_type": "execute_result"
    },
    {
     "data": {
      "image/png": "[encoded data removed]",
      "text/plain": [
       "<Figure size 1200x1200 with 2 Axes>"
      ]
     },
     "metadata": {},
     "output_type": "display_data"
    }
   ],
   "source": [
    "f, ax = plt.subplots(figsize=(12,12))\n",
    "sns.heatmap(df_train.select_dtypes(include=['number']).corr(), vmax=0, square=True)"
   ]
  },
  {
   "cell_type": "code",
   "execution_count": 11,
   "id": "a2e947ec",
   "metadata": {
    "execution": {
     "iopub.execute_input": "2024-06-13T01:11:47.917631Z",
     "iopub.status.busy": "2024-06-13T01:11:47.916503Z",
     "iopub.status.idle": "2024-06-13T01:11:48.597241Z",
     "shell.execute_reply": "2024-06-13T01:11:48.595800Z"
    },
    "papermill": {
     "duration": 0.701356,
     "end_time": "2024-06-13T01:11:48.599821",
     "exception": false,
     "start_time": "2024-06-13T01:11:47.898465",
     "status": "completed"
    },
    "tags": []
   },
   "outputs": [
    {
     "data": {
      "text/plain": [
       "<Axes: >"
      ]
     },
     "execution_count": 11,
     "metadata": {},
     "output_type": "execute_result"
    },
    {
     "data": {
      "image/png": "[encoded data removed]",
      "text/plain": [
       "<Figure size 640x480 with 2 Axes>"
      ]
     },
     "metadata": {},
     "output_type": "display_data"
    }
   ],
   "source": [
    "k = 10\n",
    "cols = df_train.select_dtypes(include=['number']).corr().nlargest(k, 'SalePrice')['SalePrice'].index\n",
    "cm = np.corrcoef(df_train[cols].values.T)\n",
    "sns.heatmap(cm, cbar=True, annot=True, xticklabels=cols.values, yticklabels=cols.values)"
   ]
  },
  {
   "cell_type": "markdown",
   "id": "336905b7",
   "metadata": {
    "papermill": {
     "duration": 0.015987,
     "end_time": "2024-06-13T01:11:48.632066",
     "exception": false,
     "start_time": "2024-06-13T01:11:48.616079",
     "status": "completed"
    },
    "tags": []
   },
   "source": [
    "Top 10 features that have high correlation with SalePrice: OverallQual, GrLivArea, GarageCars,GarageArea, TotalBsmtSF, 1stFlrSF, FullBath, TotRmsAbvGrd, YearBuilt.\n",
    "\n",
    "These features are good enough for the model to train with."
   ]
  },
  {
   "cell_type": "markdown",
   "id": "6f64484f",
   "metadata": {
    "papermill": {
     "duration": 0.015852,
     "end_time": "2024-06-13T01:11:48.664093",
     "exception": false,
     "start_time": "2024-06-13T01:11:48.648241",
     "status": "completed"
    },
    "tags": []
   },
   "source": [
    "# 2. Prepare data to train the model"
   ]
  },
  {
   "cell_type": "code",
   "execution_count": 12,
   "id": "b526cb9a",
   "metadata": {
    "execution": {
     "iopub.execute_input": "2024-06-13T01:11:48.698511Z",
     "iopub.status.busy": "2024-06-13T01:11:48.698049Z",
     "iopub.status.idle": "2024-06-13T01:11:48.724721Z",
     "shell.execute_reply": "2024-06-13T01:11:48.723326Z"
    },
    "papermill": {
     "duration": 0.047784,
     "end_time": "2024-06-13T01:11:48.728003",
     "exception": false,
     "start_time": "2024-06-13T01:11:48.680219",
     "status": "completed"
    },
    "tags": []
   },
   "outputs": [
    {
     "data": {
      "text/html": [
       "<div>\n",
       "<style scoped>\n",
       "    .dataframe tbody tr th:only-of-type {\n",
       "        vertical-align: middle;\n",
       "    }\n",
       "\n",
       "    .dataframe tbody tr th {\n",
       "        vertical-align: top;\n",
       "    }\n",
       "\n",
       "    .dataframe thead th {\n",
       "        text-align: right;\n",
       "    }\n",
       "</style>\n",
       "<table border=\"1\" class=\"dataframe\">\n",
       "  <thead>\n",
       "    <tr style=\"text-align: right;\">\n",
       "      <th></th>\n",
       "      <th>Id</th>\n",
       "      <th>MSSubClass</th>\n",
       "      <th>MSZoning</th>\n",
       "      <th>LotFrontage</th>\n",
       "      <th>LotArea</th>\n",
       "      <th>Street</th>\n",
       "      <th>Alley</th>\n",
       "      <th>LotShape</th>\n",
       "      <th>LandContour</th>\n",
       "      <th>Utilities</th>\n",
       "      <th>...</th>\n",
       "      <th>PoolArea</th>\n",
       "      <th>PoolQC</th>\n",
       "      <th>Fence</th>\n",
       "      <th>MiscFeature</th>\n",
       "      <th>MiscVal</th>\n",
       "      <th>MoSold</th>\n",
       "      <th>YrSold</th>\n",
       "      <th>SaleType</th>\n",
       "      <th>SaleCondition</th>\n",
       "      <th>SalePrice</th>\n",
       "    </tr>\n",
       "  </thead>\n",
       "  <tbody>\n",
       "    <tr>\n",
       "      <th>0</th>\n",
       "      <td>1</td>\n",
       "      <td>60</td>\n",
       "      <td>RL</td>\n",
       "      <td>65.0</td>\n",
       "      <td>8450</td>\n",
       "      <td>Pave</td>\n",
       "      <td>NaN</td>\n",
       "      <td>Reg</td>\n",
       "      <td>Lvl</td>\n",
       "      <td>AllPub</td>\n",
       "      <td>...</td>\n",
       "      <td>0</td>\n",
       "      <td>NaN</td>\n",
       "      <td>NaN</td>\n",
       "      <td>NaN</td>\n",
       "      <td>0</td>\n",
       "      <td>2</td>\n",
       "      <td>2008</td>\n",
       "      <td>WD</td>\n",
       "      <td>Normal</td>\n",
       "      <td>208500</td>\n",
       "    </tr>\n",
       "    <tr>\n",
       "      <th>1</th>\n",
       "      <td>2</td>\n",
       "      <td>20</td>\n",
       "      <td>RL</td>\n",
       "      <td>80.0</td>\n",
       "      <td>9600</td>\n",
       "      <td>Pave</td>\n",
       "      <td>NaN</td>\n",
       "      <td>Reg</td>\n",
       "      <td>Lvl</td>\n",
       "      <td>AllPub</td>\n",
       "      <td>...</td>\n",
       "      <td>0</td>\n",
       "      <td>NaN</td>\n",
       "      <td>NaN</td>\n",
       "      <td>NaN</td>\n",
       "      <td>0</td>\n",
       "      <td>5</td>\n",
       "      <td>2007</td>\n",
       "      <td>WD</td>\n",
       "      <td>Normal</td>\n",
       "      <td>181500</td>\n",
       "    </tr>\n",
       "    <tr>\n",
       "      <th>2</th>\n",
       "      <td>3</td>\n",
       "      <td>60</td>\n",
       "      <td>RL</td>\n",
       "      <td>68.0</td>\n",
       "      <td>11250</td>\n",
       "      <td>Pave</td>\n",
       "      <td>NaN</td>\n",
       "      <td>IR1</td>\n",
       "      <td>Lvl</td>\n",
       "      <td>AllPub</td>\n",
       "      <td>...</td>\n",
       "      <td>0</td>\n",
       "      <td>NaN</td>\n",
       "      <td>NaN</td>\n",
       "      <td>NaN</td>\n",
       "      <td>0</td>\n",
       "      <td>9</td>\n",
       "      <td>2008</td>\n",
       "      <td>WD</td>\n",
       "      <td>Normal</td>\n",
       "      <td>223500</td>\n",
       "    </tr>\n",
       "    <tr>\n",
       "      <th>3</th>\n",
       "      <td>4</td>\n",
       "      <td>70</td>\n",
       "      <td>RL</td>\n",
       "      <td>60.0</td>\n",
       "      <td>9550</td>\n",
       "      <td>Pave</td>\n",
       "      <td>NaN</td>\n",
       "      <td>IR1</td>\n",
       "      <td>Lvl</td>\n",
       "      <td>AllPub</td>\n",
       "      <td>...</td>\n",
       "      <td>0</td>\n",
       "      <td>NaN</td>\n",
       "      <td>NaN</td>\n",
       "      <td>NaN</td>\n",
       "      <td>0</td>\n",
       "      <td>2</td>\n",
       "      <td>2006</td>\n",
       "      <td>WD</td>\n",
       "      <td>Abnorml</td>\n",
       "      <td>140000</td>\n",
       "    </tr>\n",
       "    <tr>\n",
       "      <th>4</th>\n",
       "      <td>5</td>\n",
       "      <td>60</td>\n",
       "      <td>RL</td>\n",
       "      <td>84.0</td>\n",
       "      <td>14260</td>\n",
       "      <td>Pave</td>\n",
       "      <td>NaN</td>\n",
       "      <td>IR1</td>\n",
       "      <td>Lvl</td>\n",
       "      <td>AllPub</td>\n",
       "      <td>...</td>\n",
       "      <td>0</td>\n",
       "      <td>NaN</td>\n",
       "      <td>NaN</td>\n",
       "      <td>NaN</td>\n",
       "      <td>0</td>\n",
       "      <td>12</td>\n",
       "      <td>2008</td>\n",
       "      <td>WD</td>\n",
       "      <td>Normal</td>\n",
       "      <td>250000</td>\n",
       "    </tr>\n",
       "  </tbody>\n",
       "</table>\n",
       "<p>5 rows × 81 columns</p>\n",
       "</div>"
      ],
      "text/plain": [
       "   Id  MSSubClass MSZoning  LotFrontage  LotArea Street Alley LotShape  \\\n",
       "0   1          60       RL         65.0     8450   Pave   NaN      Reg   \n",
       "1   2          20       RL         80.0     9600   Pave   NaN      Reg   \n",
       "2   3          60       RL         68.0    11250   Pave   NaN      IR1   \n",
       "3   4          70       RL         60.0     9550   Pave   NaN      IR1   \n",
       "4   5          60       RL         84.0    14260   Pave   NaN      IR1   \n",
       "\n",
       "  LandContour Utilities  ... PoolArea PoolQC Fence MiscFeature MiscVal MoSold  \\\n",
       "0         Lvl    AllPub  ...        0    NaN   NaN         NaN       0      2   \n",
       "1         Lvl    AllPub  ...        0    NaN   NaN         NaN       0      5   \n",
       "2         Lvl    AllPub  ...        0    NaN   NaN         NaN       0      9   \n",
       "3         Lvl    AllPub  ...        0    NaN   NaN         NaN       0      2   \n",
       "4         Lvl    AllPub  ...        0    NaN   NaN         NaN       0     12   \n",
       "\n",
       "  YrSold  SaleType  SaleCondition  SalePrice  \n",
       "0   2008        WD         Normal     208500  \n",
       "1   2007        WD         Normal     181500  \n",
       "2   2008        WD         Normal     223500  \n",
       "3   2006        WD        Abnorml     140000  \n",
       "4   2008        WD         Normal     250000  \n",
       "\n",
       "[5 rows x 81 columns]"
      ]
     },
     "execution_count": 12,
     "metadata": {},
     "output_type": "execute_result"
    }
   ],
   "source": [
    "df_train.head()"
   ]
  },
  {
   "cell_type": "code",
   "execution_count": 13,
   "id": "4f6431b6",
   "metadata": {
    "execution": {
     "iopub.execute_input": "2024-06-13T01:11:48.767607Z",
     "iopub.status.busy": "2024-06-13T01:11:48.766240Z",
     "iopub.status.idle": "2024-06-13T01:11:48.789687Z",
     "shell.execute_reply": "2024-06-13T01:11:48.788393Z"
    },
    "papermill": {
     "duration": 0.045151,
     "end_time": "2024-06-13T01:11:48.792192",
     "exception": false,
     "start_time": "2024-06-13T01:11:48.747041",
     "status": "completed"
    },
    "tags": []
   },
   "outputs": [
    {
     "data": {
      "text/html": [
       "<div>\n",
       "<style scoped>\n",
       "    .dataframe tbody tr th:only-of-type {\n",
       "        vertical-align: middle;\n",
       "    }\n",
       "\n",
       "    .dataframe tbody tr th {\n",
       "        vertical-align: top;\n",
       "    }\n",
       "\n",
       "    .dataframe thead th {\n",
       "        text-align: right;\n",
       "    }\n",
       "</style>\n",
       "<table border=\"1\" class=\"dataframe\">\n",
       "  <thead>\n",
       "    <tr style=\"text-align: right;\">\n",
       "      <th></th>\n",
       "      <th>Id</th>\n",
       "      <th>MSSubClass</th>\n",
       "      <th>MSZoning</th>\n",
       "      <th>LotFrontage</th>\n",
       "      <th>LotArea</th>\n",
       "      <th>Street</th>\n",
       "      <th>Alley</th>\n",
       "      <th>LotShape</th>\n",
       "      <th>LandContour</th>\n",
       "      <th>Utilities</th>\n",
       "      <th>...</th>\n",
       "      <th>ScreenPorch</th>\n",
       "      <th>PoolArea</th>\n",
       "      <th>PoolQC</th>\n",
       "      <th>Fence</th>\n",
       "      <th>MiscFeature</th>\n",
       "      <th>MiscVal</th>\n",
       "      <th>MoSold</th>\n",
       "      <th>YrSold</th>\n",
       "      <th>SaleType</th>\n",
       "      <th>SaleCondition</th>\n",
       "    </tr>\n",
       "  </thead>\n",
       "  <tbody>\n",
       "    <tr>\n",
       "      <th>0</th>\n",
       "      <td>1461</td>\n",
       "      <td>20</td>\n",
       "      <td>RH</td>\n",
       "      <td>80.0</td>\n",
       "      <td>11622</td>\n",
       "      <td>Pave</td>\n",
       "      <td>NaN</td>\n",
       "      <td>Reg</td>\n",
       "      <td>Lvl</td>\n",
       "      <td>AllPub</td>\n",
       "      <td>...</td>\n",
       "      <td>120</td>\n",
       "      <td>0</td>\n",
       "      <td>NaN</td>\n",
       "      <td>MnPrv</td>\n",
       "      <td>NaN</td>\n",
       "      <td>0</td>\n",
       "      <td>6</td>\n",
       "      <td>2010</td>\n",
       "      <td>WD</td>\n",
       "      <td>Normal</td>\n",
       "    </tr>\n",
       "    <tr>\n",
       "      <th>1</th>\n",
       "      <td>1462</td>\n",
       "      <td>20</td>\n",
       "      <td>RL</td>\n",
       "      <td>81.0</td>\n",
       "      <td>14267</td>\n",
       "      <td>Pave</td>\n",
       "      <td>NaN</td>\n",
       "      <td>IR1</td>\n",
       "      <td>Lvl</td>\n",
       "      <td>AllPub</td>\n",
       "      <td>...</td>\n",
       "      <td>0</td>\n",
       "      <td>0</td>\n",
       "      <td>NaN</td>\n",
       "      <td>NaN</td>\n",
       "      <td>Gar2</td>\n",
       "      <td>12500</td>\n",
       "      <td>6</td>\n",
       "      <td>2010</td>\n",
       "      <td>WD</td>\n",
       "      <td>Normal</td>\n",
       "    </tr>\n",
       "    <tr>\n",
       "      <th>2</th>\n",
       "      <td>1463</td>\n",
       "      <td>60</td>\n",
       "      <td>RL</td>\n",
       "      <td>74.0</td>\n",
       "      <td>13830</td>\n",
       "      <td>Pave</td>\n",
       "      <td>NaN</td>\n",
       "      <td>IR1</td>\n",
       "      <td>Lvl</td>\n",
       "      <td>AllPub</td>\n",
       "      <td>...</td>\n",
       "      <td>0</td>\n",
       "      <td>0</td>\n",
       "      <td>NaN</td>\n",
       "      <td>MnPrv</td>\n",
       "      <td>NaN</td>\n",
       "      <td>0</td>\n",
       "      <td>3</td>\n",
       "      <td>2010</td>\n",
       "      <td>WD</td>\n",
       "      <td>Normal</td>\n",
       "    </tr>\n",
       "    <tr>\n",
       "      <th>3</th>\n",
       "      <td>1464</td>\n",
       "      <td>60</td>\n",
       "      <td>RL</td>\n",
       "      <td>78.0</td>\n",
       "      <td>9978</td>\n",
       "      <td>Pave</td>\n",
       "      <td>NaN</td>\n",
       "      <td>IR1</td>\n",
       "      <td>Lvl</td>\n",
       "      <td>AllPub</td>\n",
       "      <td>...</td>\n",
       "      <td>0</td>\n",
       "      <td>0</td>\n",
       "      <td>NaN</td>\n",
       "      <td>NaN</td>\n",
       "      <td>NaN</td>\n",
       "      <td>0</td>\n",
       "      <td>6</td>\n",
       "      <td>2010</td>\n",
       "      <td>WD</td>\n",
       "      <td>Normal</td>\n",
       "    </tr>\n",
       "    <tr>\n",
       "      <th>4</th>\n",
       "      <td>1465</td>\n",
       "      <td>120</td>\n",
       "      <td>RL</td>\n",
       "      <td>43.0</td>\n",
       "      <td>5005</td>\n",
       "      <td>Pave</td>\n",
       "      <td>NaN</td>\n",
       "      <td>IR1</td>\n",
       "      <td>HLS</td>\n",
       "      <td>AllPub</td>\n",
       "      <td>...</td>\n",
       "      <td>144</td>\n",
       "      <td>0</td>\n",
       "      <td>NaN</td>\n",
       "      <td>NaN</td>\n",
       "      <td>NaN</td>\n",
       "      <td>0</td>\n",
       "      <td>1</td>\n",
       "      <td>2010</td>\n",
       "      <td>WD</td>\n",
       "      <td>Normal</td>\n",
       "    </tr>\n",
       "  </tbody>\n",
       "</table>\n",
       "<p>5 rows × 80 columns</p>\n",
       "</div>"
      ],
      "text/plain": [
       "     Id  MSSubClass MSZoning  LotFrontage  LotArea Street Alley LotShape  \\\n",
       "0  1461          20       RH         80.0    11622   Pave   NaN      Reg   \n",
       "1  1462          20       RL         81.0    14267   Pave   NaN      IR1   \n",
       "2  1463          60       RL         74.0    13830   Pave   NaN      IR1   \n",
       "3  1464          60       RL         78.0     9978   Pave   NaN      IR1   \n",
       "4  1465         120       RL         43.0     5005   Pave   NaN      IR1   \n",
       "\n",
       "  LandContour Utilities  ... ScreenPorch PoolArea PoolQC  Fence MiscFeature  \\\n",
       "0         Lvl    AllPub  ...         120        0    NaN  MnPrv         NaN   \n",
       "1         Lvl    AllPub  ...           0        0    NaN    NaN        Gar2   \n",
       "2         Lvl    AllPub  ...           0        0    NaN  MnPrv         NaN   \n",
       "3         Lvl    AllPub  ...           0        0    NaN    NaN         NaN   \n",
       "4         HLS    AllPub  ...         144        0    NaN    NaN         NaN   \n",
       "\n",
       "  MiscVal MoSold  YrSold  SaleType  SaleCondition  \n",
       "0       0      6    2010        WD         Normal  \n",
       "1   12500      6    2010        WD         Normal  \n",
       "2       0      3    2010        WD         Normal  \n",
       "3       0      6    2010        WD         Normal  \n",
       "4       0      1    2010        WD         Normal  \n",
       "\n",
       "[5 rows x 80 columns]"
      ]
     },
     "execution_count": 13,
     "metadata": {},
     "output_type": "execute_result"
    }
   ],
   "source": [
    "df_test.head()"
   ]
  },
  {
   "cell_type": "code",
   "execution_count": 14,
   "id": "cb756028",
   "metadata": {
    "execution": {
     "iopub.execute_input": "2024-06-13T01:11:48.829557Z",
     "iopub.status.busy": "2024-06-13T01:11:48.829039Z",
     "iopub.status.idle": "2024-06-13T01:11:49.294894Z",
     "shell.execute_reply": "2024-06-13T01:11:49.293506Z"
    },
    "papermill": {
     "duration": 0.488327,
     "end_time": "2024-06-13T01:11:49.297943",
     "exception": false,
     "start_time": "2024-06-13T01:11:48.809616",
     "status": "completed"
    },
    "tags": []
   },
   "outputs": [
    {
     "data": {
      "text/plain": [
       "<seaborn.axisgrid.FacetGrid at 0x7be9a0ba1bd0>"
      ]
     },
     "execution_count": 14,
     "metadata": {},
     "output_type": "execute_result"
    },
    {
     "data": {
      "image/png": "[encoded data removed]",
      "text/plain": [
       "<Figure size 500x500 with 1 Axes>"
      ]
     },
     "metadata": {},
     "output_type": "display_data"
    }
   ],
   "source": [
    "# fit sale price as close as possible to a normal distribution.\n",
    "y_train = np.log1p(df_train.pop('SalePrice'))\n",
    "sns.displot(y_train)"
   ]
  },
  {
   "cell_type": "code",
   "execution_count": 15,
   "id": "60bc02eb",
   "metadata": {
    "execution": {
     "iopub.execute_input": "2024-06-13T01:11:49.335774Z",
     "iopub.status.busy": "2024-06-13T01:11:49.335242Z",
     "iopub.status.idle": "2024-06-13T01:11:49.378562Z",
     "shell.execute_reply": "2024-06-13T01:11:49.377097Z"
    },
    "papermill": {
     "duration": 0.065279,
     "end_time": "2024-06-13T01:11:49.381164",
     "exception": false,
     "start_time": "2024-06-13T01:11:49.315885",
     "status": "completed"
    },
    "tags": []
   },
   "outputs": [
    {
     "data": {
      "text/html": [
       "<div>\n",
       "<style scoped>\n",
       "    .dataframe tbody tr th:only-of-type {\n",
       "        vertical-align: middle;\n",
       "    }\n",
       "\n",
       "    .dataframe tbody tr th {\n",
       "        vertical-align: top;\n",
       "    }\n",
       "\n",
       "    .dataframe thead th {\n",
       "        text-align: right;\n",
       "    }\n",
       "</style>\n",
       "<table border=\"1\" class=\"dataframe\">\n",
       "  <thead>\n",
       "    <tr style=\"text-align: right;\">\n",
       "      <th></th>\n",
       "      <th>index</th>\n",
       "      <th>Id</th>\n",
       "      <th>MSSubClass</th>\n",
       "      <th>MSZoning</th>\n",
       "      <th>LotFrontage</th>\n",
       "      <th>LotArea</th>\n",
       "      <th>Street</th>\n",
       "      <th>Alley</th>\n",
       "      <th>LotShape</th>\n",
       "      <th>LandContour</th>\n",
       "      <th>...</th>\n",
       "      <th>ScreenPorch</th>\n",
       "      <th>PoolArea</th>\n",
       "      <th>PoolQC</th>\n",
       "      <th>Fence</th>\n",
       "      <th>MiscFeature</th>\n",
       "      <th>MiscVal</th>\n",
       "      <th>MoSold</th>\n",
       "      <th>YrSold</th>\n",
       "      <th>SaleType</th>\n",
       "      <th>SaleCondition</th>\n",
       "    </tr>\n",
       "  </thead>\n",
       "  <tbody>\n",
       "    <tr>\n",
       "      <th>0</th>\n",
       "      <td>0</td>\n",
       "      <td>1</td>\n",
       "      <td>60</td>\n",
       "      <td>RL</td>\n",
       "      <td>65.0</td>\n",
       "      <td>8450</td>\n",
       "      <td>Pave</td>\n",
       "      <td>NaN</td>\n",
       "      <td>Reg</td>\n",
       "      <td>Lvl</td>\n",
       "      <td>...</td>\n",
       "      <td>0</td>\n",
       "      <td>0</td>\n",
       "      <td>NaN</td>\n",
       "      <td>NaN</td>\n",
       "      <td>NaN</td>\n",
       "      <td>0</td>\n",
       "      <td>2</td>\n",
       "      <td>2008</td>\n",
       "      <td>WD</td>\n",
       "      <td>Normal</td>\n",
       "    </tr>\n",
       "    <tr>\n",
       "      <th>1</th>\n",
       "      <td>1</td>\n",
       "      <td>2</td>\n",
       "      <td>20</td>\n",
       "      <td>RL</td>\n",
       "      <td>80.0</td>\n",
       "      <td>9600</td>\n",
       "      <td>Pave</td>\n",
       "      <td>NaN</td>\n",
       "      <td>Reg</td>\n",
       "      <td>Lvl</td>\n",
       "      <td>...</td>\n",
       "      <td>0</td>\n",
       "      <td>0</td>\n",
       "      <td>NaN</td>\n",
       "      <td>NaN</td>\n",
       "      <td>NaN</td>\n",
       "      <td>0</td>\n",
       "      <td>5</td>\n",
       "      <td>2007</td>\n",
       "      <td>WD</td>\n",
       "      <td>Normal</td>\n",
       "    </tr>\n",
       "    <tr>\n",
       "      <th>2</th>\n",
       "      <td>2</td>\n",
       "      <td>3</td>\n",
       "      <td>60</td>\n",
       "      <td>RL</td>\n",
       "      <td>68.0</td>\n",
       "      <td>11250</td>\n",
       "      <td>Pave</td>\n",
       "      <td>NaN</td>\n",
       "      <td>IR1</td>\n",
       "      <td>Lvl</td>\n",
       "      <td>...</td>\n",
       "      <td>0</td>\n",
       "      <td>0</td>\n",
       "      <td>NaN</td>\n",
       "      <td>NaN</td>\n",
       "      <td>NaN</td>\n",
       "      <td>0</td>\n",
       "      <td>9</td>\n",
       "      <td>2008</td>\n",
       "      <td>WD</td>\n",
       "      <td>Normal</td>\n",
       "    </tr>\n",
       "    <tr>\n",
       "      <th>3</th>\n",
       "      <td>3</td>\n",
       "      <td>4</td>\n",
       "      <td>70</td>\n",
       "      <td>RL</td>\n",
       "      <td>60.0</td>\n",
       "      <td>9550</td>\n",
       "      <td>Pave</td>\n",
       "      <td>NaN</td>\n",
       "      <td>IR1</td>\n",
       "      <td>Lvl</td>\n",
       "      <td>...</td>\n",
       "      <td>0</td>\n",
       "      <td>0</td>\n",
       "      <td>NaN</td>\n",
       "      <td>NaN</td>\n",
       "      <td>NaN</td>\n",
       "      <td>0</td>\n",
       "      <td>2</td>\n",
       "      <td>2006</td>\n",
       "      <td>WD</td>\n",
       "      <td>Abnorml</td>\n",
       "    </tr>\n",
       "    <tr>\n",
       "      <th>4</th>\n",
       "      <td>4</td>\n",
       "      <td>5</td>\n",
       "      <td>60</td>\n",
       "      <td>RL</td>\n",
       "      <td>84.0</td>\n",
       "      <td>14260</td>\n",
       "      <td>Pave</td>\n",
       "      <td>NaN</td>\n",
       "      <td>IR1</td>\n",
       "      <td>Lvl</td>\n",
       "      <td>...</td>\n",
       "      <td>0</td>\n",
       "      <td>0</td>\n",
       "      <td>NaN</td>\n",
       "      <td>NaN</td>\n",
       "      <td>NaN</td>\n",
       "      <td>0</td>\n",
       "      <td>12</td>\n",
       "      <td>2008</td>\n",
       "      <td>WD</td>\n",
       "      <td>Normal</td>\n",
       "    </tr>\n",
       "    <tr>\n",
       "      <th>...</th>\n",
       "      <td>...</td>\n",
       "      <td>...</td>\n",
       "      <td>...</td>\n",
       "      <td>...</td>\n",
       "      <td>...</td>\n",
       "      <td>...</td>\n",
       "      <td>...</td>\n",
       "      <td>...</td>\n",
       "      <td>...</td>\n",
       "      <td>...</td>\n",
       "      <td>...</td>\n",
       "      <td>...</td>\n",
       "      <td>...</td>\n",
       "      <td>...</td>\n",
       "      <td>...</td>\n",
       "      <td>...</td>\n",
       "      <td>...</td>\n",
       "      <td>...</td>\n",
       "      <td>...</td>\n",
       "      <td>...</td>\n",
       "      <td>...</td>\n",
       "    </tr>\n",
       "    <tr>\n",
       "      <th>2914</th>\n",
       "      <td>1454</td>\n",
       "      <td>2915</td>\n",
       "      <td>160</td>\n",
       "      <td>RM</td>\n",
       "      <td>21.0</td>\n",
       "      <td>1936</td>\n",
       "      <td>Pave</td>\n",
       "      <td>NaN</td>\n",
       "      <td>Reg</td>\n",
       "      <td>Lvl</td>\n",
       "      <td>...</td>\n",
       "      <td>0</td>\n",
       "      <td>0</td>\n",
       "      <td>NaN</td>\n",
       "      <td>NaN</td>\n",
       "      <td>NaN</td>\n",
       "      <td>0</td>\n",
       "      <td>6</td>\n",
       "      <td>2006</td>\n",
       "      <td>WD</td>\n",
       "      <td>Normal</td>\n",
       "    </tr>\n",
       "    <tr>\n",
       "      <th>2915</th>\n",
       "      <td>1455</td>\n",
       "      <td>2916</td>\n",
       "      <td>160</td>\n",
       "      <td>RM</td>\n",
       "      <td>21.0</td>\n",
       "      <td>1894</td>\n",
       "      <td>Pave</td>\n",
       "      <td>NaN</td>\n",
       "      <td>Reg</td>\n",
       "      <td>Lvl</td>\n",
       "      <td>...</td>\n",
       "      <td>0</td>\n",
       "      <td>0</td>\n",
       "      <td>NaN</td>\n",
       "      <td>NaN</td>\n",
       "      <td>NaN</td>\n",
       "      <td>0</td>\n",
       "      <td>4</td>\n",
       "      <td>2006</td>\n",
       "      <td>WD</td>\n",
       "      <td>Abnorml</td>\n",
       "    </tr>\n",
       "    <tr>\n",
       "      <th>2916</th>\n",
       "      <td>1456</td>\n",
       "      <td>2917</td>\n",
       "      <td>20</td>\n",
       "      <td>RL</td>\n",
       "      <td>160.0</td>\n",
       "      <td>20000</td>\n",
       "      <td>Pave</td>\n",
       "      <td>NaN</td>\n",
       "      <td>Reg</td>\n",
       "      <td>Lvl</td>\n",
       "      <td>...</td>\n",
       "      <td>0</td>\n",
       "      <td>0</td>\n",
       "      <td>NaN</td>\n",
       "      <td>NaN</td>\n",
       "      <td>NaN</td>\n",
       "      <td>0</td>\n",
       "      <td>9</td>\n",
       "      <td>2006</td>\n",
       "      <td>WD</td>\n",
       "      <td>Abnorml</td>\n",
       "    </tr>\n",
       "    <tr>\n",
       "      <th>2917</th>\n",
       "      <td>1457</td>\n",
       "      <td>2918</td>\n",
       "      <td>85</td>\n",
       "      <td>RL</td>\n",
       "      <td>62.0</td>\n",
       "      <td>10441</td>\n",
       "      <td>Pave</td>\n",
       "      <td>NaN</td>\n",
       "      <td>Reg</td>\n",
       "      <td>Lvl</td>\n",
       "      <td>...</td>\n",
       "      <td>0</td>\n",
       "      <td>0</td>\n",
       "      <td>NaN</td>\n",
       "      <td>MnPrv</td>\n",
       "      <td>Shed</td>\n",
       "      <td>700</td>\n",
       "      <td>7</td>\n",
       "      <td>2006</td>\n",
       "      <td>WD</td>\n",
       "      <td>Normal</td>\n",
       "    </tr>\n",
       "    <tr>\n",
       "      <th>2918</th>\n",
       "      <td>1458</td>\n",
       "      <td>2919</td>\n",
       "      <td>60</td>\n",
       "      <td>RL</td>\n",
       "      <td>74.0</td>\n",
       "      <td>9627</td>\n",
       "      <td>Pave</td>\n",
       "      <td>NaN</td>\n",
       "      <td>Reg</td>\n",
       "      <td>Lvl</td>\n",
       "      <td>...</td>\n",
       "      <td>0</td>\n",
       "      <td>0</td>\n",
       "      <td>NaN</td>\n",
       "      <td>NaN</td>\n",
       "      <td>NaN</td>\n",
       "      <td>0</td>\n",
       "      <td>11</td>\n",
       "      <td>2006</td>\n",
       "      <td>WD</td>\n",
       "      <td>Normal</td>\n",
       "    </tr>\n",
       "  </tbody>\n",
       "</table>\n",
       "<p>2919 rows × 81 columns</p>\n",
       "</div>"
      ],
      "text/plain": [
       "      index    Id  MSSubClass MSZoning  LotFrontage  LotArea Street Alley  \\\n",
       "0         0     1          60       RL         65.0     8450   Pave   NaN   \n",
       "1         1     2          20       RL         80.0     9600   Pave   NaN   \n",
       "2         2     3          60       RL         68.0    11250   Pave   NaN   \n",
       "3         3     4          70       RL         60.0     9550   Pave   NaN   \n",
       "4         4     5          60       RL         84.0    14260   Pave   NaN   \n",
       "...     ...   ...         ...      ...          ...      ...    ...   ...   \n",
       "2914   1454  2915         160       RM         21.0     1936   Pave   NaN   \n",
       "2915   1455  2916         160       RM         21.0     1894   Pave   NaN   \n",
       "2916   1456  2917          20       RL        160.0    20000   Pave   NaN   \n",
       "2917   1457  2918          85       RL         62.0    10441   Pave   NaN   \n",
       "2918   1458  2919          60       RL         74.0     9627   Pave   NaN   \n",
       "\n",
       "     LotShape LandContour  ... ScreenPorch PoolArea PoolQC  Fence MiscFeature  \\\n",
       "0         Reg         Lvl  ...           0        0    NaN    NaN         NaN   \n",
       "1         Reg         Lvl  ...           0        0    NaN    NaN         NaN   \n",
       "2         IR1         Lvl  ...           0        0    NaN    NaN         NaN   \n",
       "3         IR1         Lvl  ...           0        0    NaN    NaN         NaN   \n",
       "4         IR1         Lvl  ...           0        0    NaN    NaN         NaN   \n",
       "...       ...         ...  ...         ...      ...    ...    ...         ...   \n",
       "2914      Reg         Lvl  ...           0        0    NaN    NaN         NaN   \n",
       "2915      Reg         Lvl  ...           0        0    NaN    NaN         NaN   \n",
       "2916      Reg         Lvl  ...           0        0    NaN    NaN         NaN   \n",
       "2917      Reg         Lvl  ...           0        0    NaN  MnPrv        Shed   \n",
       "2918      Reg         Lvl  ...           0        0    NaN    NaN         NaN   \n",
       "\n",
       "     MiscVal MoSold YrSold  SaleType  SaleCondition  \n",
       "0          0      2   2008        WD         Normal  \n",
       "1          0      5   2007        WD         Normal  \n",
       "2          0      9   2008        WD         Normal  \n",
       "3          0      2   2006        WD        Abnorml  \n",
       "4          0     12   2008        WD         Normal  \n",
       "...      ...    ...    ...       ...            ...  \n",
       "2914       0      6   2006        WD         Normal  \n",
       "2915       0      4   2006        WD        Abnorml  \n",
       "2916       0      9   2006        WD        Abnorml  \n",
       "2917     700      7   2006        WD         Normal  \n",
       "2918       0     11   2006        WD         Normal  \n",
       "\n",
       "[2919 rows x 81 columns]"
      ]
     },
     "execution_count": 15,
     "metadata": {},
     "output_type": "execute_result"
    }
   ],
   "source": [
    "# group train and test sets together for feature processing\n",
    "all_df = pd.concat([df_train, df_test], axis=0)\n",
    "all_df.reset_index(inplace=True)\n",
    "all_df"
   ]
  },
  {
   "cell_type": "code",
   "execution_count": 16,
   "id": "11537c77",
   "metadata": {
    "execution": {
     "iopub.execute_input": "2024-06-13T01:11:49.419162Z",
     "iopub.status.busy": "2024-06-13T01:11:49.418708Z",
     "iopub.status.idle": "2024-06-13T01:11:49.431143Z",
     "shell.execute_reply": "2024-06-13T01:11:49.429597Z"
    },
    "papermill": {
     "duration": 0.034774,
     "end_time": "2024-06-13T01:11:49.433971",
     "exception": false,
     "start_time": "2024-06-13T01:11:49.399197",
     "status": "completed"
    },
    "tags": []
   },
   "outputs": [
    {
     "data": {
      "text/plain": [
       "MSSubClass\n",
       "20     1079\n",
       "60      575\n",
       "50      287\n",
       "120     182\n",
       "30      139\n",
       "70      128\n",
       "160     128\n",
       "80      118\n",
       "90      109\n",
       "190      61\n",
       "85       48\n",
       "75       23\n",
       "45       18\n",
       "180      17\n",
       "40        6\n",
       "150       1\n",
       "Name: count, dtype: int64"
      ]
     },
     "execution_count": 16,
     "metadata": {},
     "output_type": "execute_result"
    }
   ],
   "source": [
    "all_df.MSSubClass.value_counts()"
   ]
  },
  {
   "cell_type": "markdown",
   "id": "3e837d4f",
   "metadata": {
    "papermill": {
     "duration": 0.090566,
     "end_time": "2024-06-13T01:11:49.543363",
     "exception": false,
     "start_time": "2024-06-13T01:11:49.452797",
     "status": "completed"
    },
    "tags": []
   },
   "source": [
    "The values of the numbers themselves can impact the model. To avoid the numerical influence during classification, we do one-hot encoding using get_dummies method"
   ]
  },
  {
   "cell_type": "code",
   "execution_count": 17,
   "id": "0d085924",
   "metadata": {
    "execution": {
     "iopub.execute_input": "2024-06-13T01:11:49.583176Z",
     "iopub.status.busy": "2024-06-13T01:11:49.581858Z",
     "iopub.status.idle": "2024-06-13T01:11:49.603515Z",
     "shell.execute_reply": "2024-06-13T01:11:49.602061Z"
    },
    "papermill": {
     "duration": 0.044498,
     "end_time": "2024-06-13T01:11:49.606444",
     "exception": false,
     "start_time": "2024-06-13T01:11:49.561946",
     "status": "completed"
    },
    "tags": []
   },
   "outputs": [
    {
     "data": {
      "text/html": [
       "<div>\n",
       "<style scoped>\n",
       "    .dataframe tbody tr th:only-of-type {\n",
       "        vertical-align: middle;\n",
       "    }\n",
       "\n",
       "    .dataframe tbody tr th {\n",
       "        vertical-align: top;\n",
       "    }\n",
       "\n",
       "    .dataframe thead th {\n",
       "        text-align: right;\n",
       "    }\n",
       "</style>\n",
       "<table border=\"1\" class=\"dataframe\">\n",
       "  <thead>\n",
       "    <tr style=\"text-align: right;\">\n",
       "      <th></th>\n",
       "      <th>MSSubClass_20</th>\n",
       "      <th>MSSubClass_30</th>\n",
       "      <th>MSSubClass_40</th>\n",
       "      <th>MSSubClass_45</th>\n",
       "      <th>MSSubClass_50</th>\n",
       "      <th>MSSubClass_60</th>\n",
       "      <th>MSSubClass_70</th>\n",
       "      <th>MSSubClass_75</th>\n",
       "      <th>MSSubClass_80</th>\n",
       "      <th>MSSubClass_85</th>\n",
       "      <th>MSSubClass_90</th>\n",
       "      <th>MSSubClass_120</th>\n",
       "      <th>MSSubClass_150</th>\n",
       "      <th>MSSubClass_160</th>\n",
       "      <th>MSSubClass_180</th>\n",
       "      <th>MSSubClass_190</th>\n",
       "    </tr>\n",
       "  </thead>\n",
       "  <tbody>\n",
       "    <tr>\n",
       "      <th>0</th>\n",
       "      <td>False</td>\n",
       "      <td>False</td>\n",
       "      <td>False</td>\n",
       "      <td>False</td>\n",
       "      <td>False</td>\n",
       "      <td>True</td>\n",
       "      <td>False</td>\n",
       "      <td>False</td>\n",
       "      <td>False</td>\n",
       "      <td>False</td>\n",
       "      <td>False</td>\n",
       "      <td>False</td>\n",
       "      <td>False</td>\n",
       "      <td>False</td>\n",
       "      <td>False</td>\n",
       "      <td>False</td>\n",
       "    </tr>\n",
       "    <tr>\n",
       "      <th>1</th>\n",
       "      <td>True</td>\n",
       "      <td>False</td>\n",
       "      <td>False</td>\n",
       "      <td>False</td>\n",
       "      <td>False</td>\n",
       "      <td>False</td>\n",
       "      <td>False</td>\n",
       "      <td>False</td>\n",
       "      <td>False</td>\n",
       "      <td>False</td>\n",
       "      <td>False</td>\n",
       "      <td>False</td>\n",
       "      <td>False</td>\n",
       "      <td>False</td>\n",
       "      <td>False</td>\n",
       "      <td>False</td>\n",
       "    </tr>\n",
       "    <tr>\n",
       "      <th>2</th>\n",
       "      <td>False</td>\n",
       "      <td>False</td>\n",
       "      <td>False</td>\n",
       "      <td>False</td>\n",
       "      <td>False</td>\n",
       "      <td>True</td>\n",
       "      <td>False</td>\n",
       "      <td>False</td>\n",
       "      <td>False</td>\n",
       "      <td>False</td>\n",
       "      <td>False</td>\n",
       "      <td>False</td>\n",
       "      <td>False</td>\n",
       "      <td>False</td>\n",
       "      <td>False</td>\n",
       "      <td>False</td>\n",
       "    </tr>\n",
       "    <tr>\n",
       "      <th>3</th>\n",
       "      <td>False</td>\n",
       "      <td>False</td>\n",
       "      <td>False</td>\n",
       "      <td>False</td>\n",
       "      <td>False</td>\n",
       "      <td>False</td>\n",
       "      <td>True</td>\n",
       "      <td>False</td>\n",
       "      <td>False</td>\n",
       "      <td>False</td>\n",
       "      <td>False</td>\n",
       "      <td>False</td>\n",
       "      <td>False</td>\n",
       "      <td>False</td>\n",
       "      <td>False</td>\n",
       "      <td>False</td>\n",
       "    </tr>\n",
       "    <tr>\n",
       "      <th>4</th>\n",
       "      <td>False</td>\n",
       "      <td>False</td>\n",
       "      <td>False</td>\n",
       "      <td>False</td>\n",
       "      <td>False</td>\n",
       "      <td>True</td>\n",
       "      <td>False</td>\n",
       "      <td>False</td>\n",
       "      <td>False</td>\n",
       "      <td>False</td>\n",
       "      <td>False</td>\n",
       "      <td>False</td>\n",
       "      <td>False</td>\n",
       "      <td>False</td>\n",
       "      <td>False</td>\n",
       "      <td>False</td>\n",
       "    </tr>\n",
       "  </tbody>\n",
       "</table>\n",
       "</div>"
      ],
      "text/plain": [
       "   MSSubClass_20  MSSubClass_30  MSSubClass_40  MSSubClass_45  MSSubClass_50  \\\n",
       "0          False          False          False          False          False   \n",
       "1           True          False          False          False          False   \n",
       "2          False          False          False          False          False   \n",
       "3          False          False          False          False          False   \n",
       "4          False          False          False          False          False   \n",
       "\n",
       "   MSSubClass_60  MSSubClass_70  MSSubClass_75  MSSubClass_80  MSSubClass_85  \\\n",
       "0           True          False          False          False          False   \n",
       "1          False          False          False          False          False   \n",
       "2           True          False          False          False          False   \n",
       "3          False           True          False          False          False   \n",
       "4           True          False          False          False          False   \n",
       "\n",
       "   MSSubClass_90  MSSubClass_120  MSSubClass_150  MSSubClass_160  \\\n",
       "0          False           False           False           False   \n",
       "1          False           False           False           False   \n",
       "2          False           False           False           False   \n",
       "3          False           False           False           False   \n",
       "4          False           False           False           False   \n",
       "\n",
       "   MSSubClass_180  MSSubClass_190  \n",
       "0           False           False  \n",
       "1           False           False  \n",
       "2           False           False  \n",
       "3           False           False  \n",
       "4           False           False  "
      ]
     },
     "execution_count": 17,
     "metadata": {},
     "output_type": "execute_result"
    }
   ],
   "source": [
    "pd.get_dummies(all_df['MSSubClass'], prefix='MSSubClass').head()"
   ]
  },
  {
   "cell_type": "code",
   "execution_count": 18,
   "id": "4d16d536",
   "metadata": {
    "execution": {
     "iopub.execute_input": "2024-06-13T01:11:49.648432Z",
     "iopub.status.busy": "2024-06-13T01:11:49.648014Z",
     "iopub.status.idle": "2024-06-13T01:11:49.704674Z",
     "shell.execute_reply": "2024-06-13T01:11:49.703502Z"
    },
    "papermill": {
     "duration": 0.08184,
     "end_time": "2024-06-13T01:11:49.707580",
     "exception": false,
     "start_time": "2024-06-13T01:11:49.625740",
     "status": "completed"
    },
    "tags": []
   },
   "outputs": [
    {
     "data": {
      "text/plain": [
       "(2919, 289)"
      ]
     },
     "execution_count": 18,
     "metadata": {},
     "output_type": "execute_result"
    }
   ],
   "source": [
    "all_df = pd.get_dummies(all_df)\n",
    "all_df.shape"
   ]
  },
  {
   "cell_type": "code",
   "execution_count": 19,
   "id": "d1439074",
   "metadata": {
    "execution": {
     "iopub.execute_input": "2024-06-13T01:11:49.747141Z",
     "iopub.status.busy": "2024-06-13T01:11:49.746694Z",
     "iopub.status.idle": "2024-06-13T01:11:49.762199Z",
     "shell.execute_reply": "2024-06-13T01:11:49.760689Z"
    },
    "papermill": {
     "duration": 0.038824,
     "end_time": "2024-06-13T01:11:49.765177",
     "exception": false,
     "start_time": "2024-06-13T01:11:49.726353",
     "status": "completed"
    },
    "tags": []
   },
   "outputs": [
    {
     "data": {
      "text/plain": [
       "LotFrontage     486\n",
       "GarageYrBlt     159\n",
       "MasVnrArea       23\n",
       "BsmtHalfBath      2\n",
       "BsmtFullBath      2\n",
       "BsmtFinSF1        1\n",
       "GarageArea        1\n",
       "GarageCars        1\n",
       "BsmtUnfSF         1\n",
       "BsmtFinSF2        1\n",
       "dtype: int64"
      ]
     },
     "execution_count": 19,
     "metadata": {},
     "output_type": "execute_result"
    }
   ],
   "source": [
    "# identify missing values\n",
    "all_df.isnull().sum().sort_values(ascending=False).head(10)"
   ]
  },
  {
   "cell_type": "code",
   "execution_count": 20,
   "id": "29ee02dd",
   "metadata": {
    "execution": {
     "iopub.execute_input": "2024-06-13T01:11:49.806892Z",
     "iopub.status.busy": "2024-06-13T01:11:49.805910Z",
     "iopub.status.idle": "2024-06-13T01:11:49.981231Z",
     "shell.execute_reply": "2024-06-13T01:11:49.979832Z"
    },
    "papermill": {
     "duration": 0.199561,
     "end_time": "2024-06-13T01:11:49.984259",
     "exception": false,
     "start_time": "2024-06-13T01:11:49.784698",
     "status": "completed"
    },
    "tags": []
   },
   "outputs": [
    {
     "data": {
      "text/plain": [
       "0"
      ]
     },
     "execution_count": 20,
     "metadata": {},
     "output_type": "execute_result"
    }
   ],
   "source": [
    "# replace missing values with mean\n",
    "from sklearn.impute import SimpleImputer\n",
    "\n",
    "imputer = SimpleImputer(strategy='mean')\n",
    "\n",
    "all_df = pd.DataFrame(imputer.fit_transform(all_df), columns=all_df.columns)\n",
    "\n",
    "all_df.isnull().sum().sum()"
   ]
  },
  {
   "cell_type": "code",
   "execution_count": 21,
   "id": "8842a8e4",
   "metadata": {
    "execution": {
     "iopub.execute_input": "2024-06-13T01:11:50.026142Z",
     "iopub.status.busy": "2024-06-13T01:11:50.025689Z",
     "iopub.status.idle": "2024-06-13T01:11:50.048680Z",
     "shell.execute_reply": "2024-06-13T01:11:50.047000Z"
    },
    "papermill": {
     "duration": 0.047379,
     "end_time": "2024-06-13T01:11:50.051615",
     "exception": false,
     "start_time": "2024-06-13T01:11:50.004236",
     "status": "completed"
    },
    "tags": []
   },
   "outputs": [],
   "source": [
    "numeric_cols = df_train.select_dtypes(include=['number']).columns\n",
    "\n",
    "numeric_col_mean = all_df.loc[:, numeric_cols].mean()\n",
    "numeric_col_std = all_df.loc[:, numeric_cols].std()\n",
    "all_df.loc[:, numeric_cols] = (all_df.loc[:, numeric_cols] - numeric_col_mean) / numeric_col_std"
   ]
  },
  {
   "cell_type": "markdown",
   "id": "7887d0d6",
   "metadata": {
    "papermill": {
     "duration": 0.01859,
     "end_time": "2024-06-13T01:11:50.089706",
     "exception": false,
     "start_time": "2024-06-13T01:11:50.071116",
     "status": "completed"
    },
    "tags": []
   },
   "source": [
    "# 3. Build model"
   ]
  },
  {
   "cell_type": "code",
   "execution_count": 22,
   "id": "543ecf16",
   "metadata": {
    "execution": {
     "iopub.execute_input": "2024-06-13T01:11:50.129095Z",
     "iopub.status.busy": "2024-06-13T01:11:50.128649Z",
     "iopub.status.idle": "2024-06-13T01:11:50.148035Z",
     "shell.execute_reply": "2024-06-13T01:11:50.146645Z"
    },
    "papermill": {
     "duration": 0.042641,
     "end_time": "2024-06-13T01:11:50.150991",
     "exception": false,
     "start_time": "2024-06-13T01:11:50.108350",
     "status": "completed"
    },
    "tags": []
   },
   "outputs": [
    {
     "data": {
      "text/plain": [
       "((1460, 288), (1459, 288))"
      ]
     },
     "execution_count": 22,
     "metadata": {},
     "output_type": "execute_result"
    }
   ],
   "source": [
    "dummy_train_df = all_df.loc[df_train.index]\n",
    "dummy_test_df = all_df.loc[df_test.index]\n",
    "\n",
    "dummy_train_df.drop(columns=['index'], inplace=True)\n",
    "dummy_test_df.drop(columns=['index'], inplace=True)\n",
    "\n",
    "dummy_train_df.shape, dummy_test_df.shape"
   ]
  },
  {
   "cell_type": "markdown",
   "id": "90e67bd7",
   "metadata": {
    "papermill": {
     "duration": 0.018883,
     "end_time": "2024-06-13T01:11:50.188753",
     "exception": false,
     "start_time": "2024-06-13T01:11:50.169870",
     "status": "completed"
    },
    "tags": []
   },
   "source": [
    "## Ridge Regression"
   ]
  },
  {
   "cell_type": "code",
   "execution_count": 23,
   "id": "4433f61f",
   "metadata": {
    "execution": {
     "iopub.execute_input": "2024-06-13T01:11:50.230078Z",
     "iopub.status.busy": "2024-06-13T01:11:50.228949Z",
     "iopub.status.idle": "2024-06-13T01:11:50.238460Z",
     "shell.execute_reply": "2024-06-13T01:11:50.237297Z"
    },
    "papermill": {
     "duration": 0.03298,
     "end_time": "2024-06-13T01:11:50.241002",
     "exception": false,
     "start_time": "2024-06-13T01:11:50.208022",
     "status": "completed"
    },
    "tags": []
   },
   "outputs": [
    {
     "data": {
      "text/plain": [
       "array([1.00000000e-03, 1.26485522e-03, 1.59985872e-03, 2.02358965e-03,\n",
       "       2.55954792e-03, 3.23745754e-03, 4.09491506e-03, 5.17947468e-03,\n",
       "       6.55128557e-03, 8.28642773e-03, 1.04811313e-02, 1.32571137e-02,\n",
       "       1.67683294e-02, 2.12095089e-02, 2.68269580e-02, 3.39322177e-02,\n",
       "       4.29193426e-02, 5.42867544e-02, 6.86648845e-02, 8.68511374e-02,\n",
       "       1.09854114e-01, 1.38949549e-01, 1.75751062e-01, 2.22299648e-01,\n",
       "       2.81176870e-01, 3.55648031e-01, 4.49843267e-01, 5.68986603e-01,\n",
       "       7.19685673e-01, 9.10298178e-01, 1.15139540e+00, 1.45634848e+00,\n",
       "       1.84206997e+00, 2.32995181e+00, 2.94705170e+00, 3.72759372e+00,\n",
       "       4.71486636e+00, 5.96362332e+00, 7.54312006e+00, 9.54095476e+00,\n",
       "       1.20679264e+01, 1.52641797e+01, 1.93069773e+01, 2.44205309e+01,\n",
       "       3.08884360e+01, 3.90693994e+01, 4.94171336e+01, 6.25055193e+01,\n",
       "       7.90604321e+01, 1.00000000e+02])"
      ]
     },
     "execution_count": 23,
     "metadata": {},
     "output_type": "execute_result"
    }
   ],
   "source": [
    "# define a range of 50 different parameters for Ridge Regression, regularization strength = alpha\n",
    "alphas = np.logspace(-3, 2, 50)\n",
    "alphas"
   ]
  },
  {
   "cell_type": "markdown",
   "id": "4fe7b4df",
   "metadata": {
    "papermill": {
     "duration": 0.018809,
     "end_time": "2024-06-13T01:11:50.278566",
     "exception": false,
     "start_time": "2024-06-13T01:11:50.259757",
     "status": "completed"
    },
    "tags": []
   },
   "source": [
    "Reminder: Evaluation metrics = RMSE"
   ]
  },
  {
   "cell_type": "code",
   "execution_count": 24,
   "id": "48834919",
   "metadata": {
    "execution": {
     "iopub.execute_input": "2024-06-13T01:11:50.318448Z",
     "iopub.status.busy": "2024-06-13T01:11:50.317987Z",
     "iopub.status.idle": "2024-06-13T01:12:05.137948Z",
     "shell.execute_reply": "2024-06-13T01:12:05.136710Z"
    },
    "papermill": {
     "duration": 14.844092,
     "end_time": "2024-06-13T01:12:05.141406",
     "exception": false,
     "start_time": "2024-06-13T01:11:50.297314",
     "status": "completed"
    },
    "tags": []
   },
   "outputs": [],
   "source": [
    "# cross validation using different alphas\n",
    "X_train = dummy_train_df.values\n",
    "X_test = dummy_test_df.values\n",
    "\n",
    "test_scores=[]\n",
    "cv_folds = 10\n",
    "\n",
    "for alpha in alphas:\n",
    "    clf = Ridge(alpha)\n",
    "    test_score = np.sqrt(-cross_val_score(clf, X_train, y_train, cv=cv_folds, scoring='neg_mean_squared_error'))\n",
    "    test_scores.append(np.mean(test_score))"
   ]
  },
  {
   "cell_type": "code",
   "execution_count": 25,
   "id": "dded7bf3",
   "metadata": {
    "execution": {
     "iopub.execute_input": "2024-06-13T01:12:05.259263Z",
     "iopub.status.busy": "2024-06-13T01:12:05.258884Z",
     "iopub.status.idle": "2024-06-13T01:12:05.266448Z",
     "shell.execute_reply": "2024-06-13T01:12:05.265373Z"
    },
    "papermill": {
     "duration": 0.067106,
     "end_time": "2024-06-13T01:12:05.269134",
     "exception": false,
     "start_time": "2024-06-13T01:12:05.202028",
     "status": "completed"
    },
    "tags": []
   },
   "outputs": [
    {
     "data": {
      "text/plain": [
       "42"
      ]
     },
     "execution_count": 25,
     "metadata": {},
     "output_type": "execute_result"
    }
   ],
   "source": [
    "min_error_index = np.argmin(test_scores)\n",
    "min_error_index"
   ]
  },
  {
   "cell_type": "code",
   "execution_count": 26,
   "id": "91620c28",
   "metadata": {
    "execution": {
     "iopub.execute_input": "2024-06-13T01:12:05.311340Z",
     "iopub.status.busy": "2024-06-13T01:12:05.310923Z",
     "iopub.status.idle": "2024-06-13T01:12:05.318757Z",
     "shell.execute_reply": "2024-06-13T01:12:05.317379Z"
    },
    "papermill": {
     "duration": 0.032442,
     "end_time": "2024-06-13T01:12:05.321795",
     "exception": false,
     "start_time": "2024-06-13T01:12:05.289353",
     "status": "completed"
    },
    "tags": []
   },
   "outputs": [
    {
     "data": {
      "text/plain": [
       "(19.306977288832496, 0.13607812700814959)"
      ]
     },
     "execution_count": 26,
     "metadata": {},
     "output_type": "execute_result"
    }
   ],
   "source": [
    "# minimum cv error and corresponding alpha\n",
    "alphas[min_error_index], test_scores[min_error_index]"
   ]
  },
  {
   "cell_type": "code",
   "execution_count": 27,
   "id": "b5550092",
   "metadata": {
    "execution": {
     "iopub.execute_input": "2024-06-13T01:12:05.364137Z",
     "iopub.status.busy": "2024-06-13T01:12:05.363698Z",
     "iopub.status.idle": "2024-06-13T01:12:05.654126Z",
     "shell.execute_reply": "2024-06-13T01:12:05.652927Z"
    },
    "papermill": {
     "duration": 0.314549,
     "end_time": "2024-06-13T01:12:05.656609",
     "exception": false,
     "start_time": "2024-06-13T01:12:05.342060",
     "status": "completed"
    },
    "tags": []
   },
   "outputs": [
    {
     "data": {
      "image/png": "[encoded data removed]",
      "text/plain": [
       "<Figure size 640x480 with 1 Axes>"
      ]
     },
     "metadata": {},
     "output_type": "display_data"
    }
   ],
   "source": [
    "plt.scatter(alphas[min_error_index], \n",
    "            test_scores[min_error_index],\n",
    "            color='orange',\n",
    "            )\n",
    "plt.plot(alphas, test_scores)\n",
    "plt.title('Alpha vs CV error')\n",
    "plt.show()"
   ]
  },
  {
   "cell_type": "markdown",
   "id": "836d954e",
   "metadata": {
    "papermill": {
     "duration": 0.020196,
     "end_time": "2024-06-13T01:12:05.697900",
     "exception": false,
     "start_time": "2024-06-13T01:12:05.677704",
     "status": "completed"
    },
    "tags": []
   },
   "source": [
    "Lowest error (0.136) occurs at alpha = 19"
   ]
  },
  {
   "cell_type": "markdown",
   "id": "eca4d0fa",
   "metadata": {
    "papermill": {
     "duration": 0.020418,
     "end_time": "2024-06-13T01:12:05.738849",
     "exception": false,
     "start_time": "2024-06-13T01:12:05.718431",
     "status": "completed"
    },
    "tags": []
   },
   "source": [
    "## Random Forest"
   ]
  },
  {
   "cell_type": "code",
   "execution_count": 28,
   "id": "fe5d1a71",
   "metadata": {
    "execution": {
     "iopub.execute_input": "2024-06-13T01:12:05.783452Z",
     "iopub.status.busy": "2024-06-13T01:12:05.782969Z",
     "iopub.status.idle": "2024-06-13T01:12:05.891708Z",
     "shell.execute_reply": "2024-06-13T01:12:05.890378Z"
    },
    "papermill": {
     "duration": 0.134637,
     "end_time": "2024-06-13T01:12:05.894727",
     "exception": false,
     "start_time": "2024-06-13T01:12:05.760090",
     "status": "completed"
    },
    "tags": []
   },
   "outputs": [],
   "source": [
    "# use RFR instead of RFC\n",
    "from sklearn.ensemble import RandomForestRegressor"
   ]
  },
  {
   "cell_type": "markdown",
   "id": "5cb24314",
   "metadata": {
    "papermill": {
     "duration": 0.020799,
     "end_time": "2024-06-13T01:12:05.936521",
     "exception": false,
     "start_time": "2024-06-13T01:12:05.915722",
     "status": "completed"
    },
    "tags": []
   },
   "source": [
    "Main parameters:\n",
    "\n",
    "1. n_estimators: Number of trees in the forests. More trees generally lead to better performance (at the expense of computational cost). It is crucial to choose an appropriate number of trees to balance between accuracy and efficiency\n",
    "\n",
    "2. max_features: Max number of features to be used at each split. Controls the randomness of feature selection. Smaller values lead to more randomness and more diverse trees, reducing overfitting. Larger values lead to less random and more correlated trees, potentially overfitting."
   ]
  },
  {
   "cell_type": "code",
   "execution_count": 29,
   "id": "0f5586cd",
   "metadata": {
    "execution": {
     "iopub.execute_input": "2024-06-13T01:12:05.981408Z",
     "iopub.status.busy": "2024-06-13T01:12:05.980165Z",
     "iopub.status.idle": "2024-06-13T01:13:01.575547Z",
     "shell.execute_reply": "2024-06-13T01:13:01.574131Z"
    },
    "papermill": {
     "duration": 55.620815,
     "end_time": "2024-06-13T01:13:01.578550",
     "exception": false,
     "start_time": "2024-06-13T01:12:05.957735",
     "status": "completed"
    },
    "tags": []
   },
   "outputs": [],
   "source": [
    "N_estimators = [20, 50, 100, 150, 200, 250, 300]\n",
    "test_scores = []\n",
    "max_features = int(np.sqrt(X_train.shape[1]))+1\n",
    "\n",
    "for N in N_estimators:\n",
    "    clf = RandomForestRegressor(n_estimators=N, max_features=max_features)\n",
    "    test_score = np.sqrt(-cross_val_score(clf, X_train, y_train, cv=cv_folds,\n",
    "                                         scoring='neg_mean_squared_error'))\n",
    "    test_scores.append(np.mean(test_score))"
   ]
  },
  {
   "cell_type": "code",
   "execution_count": 30,
   "id": "6d74e287",
   "metadata": {
    "execution": {
     "iopub.execute_input": "2024-06-13T01:13:01.621507Z",
     "iopub.status.busy": "2024-06-13T01:13:01.621011Z",
     "iopub.status.idle": "2024-06-13T01:13:01.629355Z",
     "shell.execute_reply": "2024-06-13T01:13:01.628178Z"
    },
    "papermill": {
     "duration": 0.032867,
     "end_time": "2024-06-13T01:13:01.631889",
     "exception": false,
     "start_time": "2024-06-13T01:13:01.599022",
     "status": "completed"
    },
    "tags": []
   },
   "outputs": [
    {
     "data": {
      "text/plain": [
       "(300, 0.1437887093394993)"
      ]
     },
     "execution_count": 30,
     "metadata": {},
     "output_type": "execute_result"
    }
   ],
   "source": [
    "min_error_index = np.argmin(test_scores)\n",
    "N_estimators[min_error_index], test_scores[min_error_index]"
   ]
  },
  {
   "cell_type": "code",
   "execution_count": 31,
   "id": "da1c93d4",
   "metadata": {
    "execution": {
     "iopub.execute_input": "2024-06-13T01:13:01.675387Z",
     "iopub.status.busy": "2024-06-13T01:13:01.674938Z",
     "iopub.status.idle": "2024-06-13T01:13:01.878653Z",
     "shell.execute_reply": "2024-06-13T01:13:01.877133Z"
    },
    "papermill": {
     "duration": 0.230605,
     "end_time": "2024-06-13T01:13:01.882229",
     "exception": false,
     "start_time": "2024-06-13T01:13:01.651624",
     "status": "completed"
    },
    "tags": []
   },
   "outputs": [
    {
     "data": {
      "text/plain": [
       "[<matplotlib.lines.Line2D at 0x7be9a124e260>]"
      ]
     },
     "execution_count": 31,
     "metadata": {},
     "output_type": "execute_result"
    },
    {
     "data": {
      "image/png": "[encoded data removed]",
      "text/plain": [
       "<Figure size 640x480 with 1 Axes>"
      ]
     },
     "metadata": {},
     "output_type": "display_data"
    }
   ],
   "source": [
    "plt.scatter(N_estimators[min_error_index], test_scores[min_error_index], color='orange')\n",
    "plt.plot(N_estimators, test_scores)"
   ]
  },
  {
   "cell_type": "markdown",
   "id": "0100ef10",
   "metadata": {
    "papermill": {
     "duration": 0.020994,
     "end_time": "2024-06-13T01:13:01.925724",
     "exception": false,
     "start_time": "2024-06-13T01:13:01.904730",
     "status": "completed"
    },
    "tags": []
   },
   "source": [
    "Optimal no of estimators = 150, with lowest score = 0.143 (slightly higher than Ridge Regression)"
   ]
  },
  {
   "cell_type": "markdown",
   "id": "a0a306ec",
   "metadata": {
    "papermill": {
     "duration": 0.022032,
     "end_time": "2024-06-13T01:13:01.969513",
     "exception": false,
     "start_time": "2024-06-13T01:13:01.947481",
     "status": "completed"
    },
    "tags": []
   },
   "source": [
    "## Ensemble\n",
    "\n",
    "Combining ridge regression and random forest regressor to form an ensemble model"
   ]
  },
  {
   "cell_type": "code",
   "execution_count": 32,
   "id": "5acbc385",
   "metadata": {
    "execution": {
     "iopub.execute_input": "2024-06-13T01:13:02.017036Z",
     "iopub.status.busy": "2024-06-13T01:13:02.016036Z",
     "iopub.status.idle": "2024-06-13T01:13:02.940723Z",
     "shell.execute_reply": "2024-06-13T01:13:02.939253Z"
    },
    "papermill": {
     "duration": 0.951686,
     "end_time": "2024-06-13T01:13:02.943399",
     "exception": false,
     "start_time": "2024-06-13T01:13:01.991713",
     "status": "completed"
    },
    "tags": []
   },
   "outputs": [
    {
     "data": {
      "text/html": [
       "<style>#sk-container-id-1 {color: black;background-color: white;}#sk-container-id-1 pre{padding: 0;}#sk-container-id-1 div.sk-toggleable {background-color: white;}#sk-container-id-1 label.sk-toggleable__label {cursor: pointer;display: block;width: 100%;margin-bottom: 0;padding: 0.3em;box-sizing: border-box;text-align: center;}#sk-container-id-1 label.sk-toggleable__label-arrow:before {content: \"▸\";float: left;margin-right: 0.25em;color: #696969;}#sk-container-id-1 label.sk-toggleable__label-arrow:hover:before {color: black;}#sk-container-id-1 div.sk-estimator:hover label.sk-toggleable__label-arrow:before {color: black;}#sk-container-id-1 div.sk-toggleable__content {max-height: 0;max-width: 0;overflow: hidden;text-align: left;background-color: #f0f8ff;}#sk-container-id-1 div.sk-toggleable__content pre {margin: 0.2em;color: black;border-radius: 0.25em;background-color: #f0f8ff;}#sk-container-id-1 input.sk-toggleable__control:checked~div.sk-toggleable__content {max-height: 200px;max-width: 100%;overflow: auto;}#sk-container-id-1 input.sk-toggleable__control:checked~label.sk-toggleable__label-arrow:before {content: \"▾\";}#sk-container-id-1 div.sk-estimator input.sk-toggleable__control:checked~label.sk-toggleable__label {background-color: #d4ebff;}#sk-container-id-1 div.sk-label input.sk-toggleable__control:checked~label.sk-toggleable__label {background-color: #d4ebff;}#sk-container-id-1 input.sk-hidden--visually {border: 0;clip: rect(1px 1px 1px 1px);clip: rect(1px, 1px, 1px, 1px);height: 1px;margin: -1px;overflow: hidden;padding: 0;position: absolute;width: 1px;}#sk-container-id-1 div.sk-estimator {font-family: monospace;background-color: #f0f8ff;border: 1px dotted black;border-radius: 0.25em;box-sizing: border-box;margin-bottom: 0.5em;}#sk-container-id-1 div.sk-estimator:hover {background-color: #d4ebff;}#sk-container-id-1 div.sk-parallel-item::after {content: \"\";width: 100%;border-bottom: 1px solid gray;flex-grow: 1;}#sk-container-id-1 div.sk-label:hover label.sk-toggleable__label {background-color: #d4ebff;}#sk-container-id-1 div.sk-serial::before {content: \"\";position: absolute;border-left: 1px solid gray;box-sizing: border-box;top: 0;bottom: 0;left: 50%;z-index: 0;}#sk-container-id-1 div.sk-serial {display: flex;flex-direction: column;align-items: center;background-color: white;padding-right: 0.2em;padding-left: 0.2em;position: relative;}#sk-container-id-1 div.sk-item {position: relative;z-index: 1;}#sk-container-id-1 div.sk-parallel {display: flex;align-items: stretch;justify-content: center;background-color: white;position: relative;}#sk-container-id-1 div.sk-item::before, #sk-container-id-1 div.sk-parallel-item::before {content: \"\";position: absolute;border-left: 1px solid gray;box-sizing: border-box;top: 0;bottom: 0;left: 50%;z-index: -1;}#sk-container-id-1 div.sk-parallel-item {display: flex;flex-direction: column;z-index: 1;position: relative;background-color: white;}#sk-container-id-1 div.sk-parallel-item:first-child::after {align-self: flex-end;width: 50%;}#sk-container-id-1 div.sk-parallel-item:last-child::after {align-self: flex-start;width: 50%;}#sk-container-id-1 div.sk-parallel-item:only-child::after {width: 0;}#sk-container-id-1 div.sk-dashed-wrapped {border: 1px dashed gray;margin: 0 0.4em 0.5em 0.4em;box-sizing: border-box;padding-bottom: 0.4em;background-color: white;}#sk-container-id-1 div.sk-label label {font-family: monospace;font-weight: bold;display: inline-block;line-height: 1.2em;}#sk-container-id-1 div.sk-label-container {text-align: center;}#sk-container-id-1 div.sk-container {/* jupyter's `normalize.less` sets `[hidden] { display: none; }` but bootstrap.min.css set `[hidden] { display: none !important; }` so we also need the `!important` here to be able to override the default hidden behavior on the sphinx rendered scikit-learn.org. See: https://github.com/scikit-learn/scikit-learn/issues/21755 */display: inline-block !important;position: relative;}#sk-container-id-1 div.sk-text-repr-fallback {display: none;}</style><div id=\"sk-container-id-1\" class=\"sk-top-container\"><div class=\"sk-text-repr-fallback\"><pre>RandomForestRegressor(max_features=17, n_estimators=150)</pre><b>In a Jupyter environment, please rerun this cell to show the HTML representation or trust the notebook. <br />On GitHub, the HTML representation is unable to render, please try loading this page with nbviewer.org.</b></div><div class=\"sk-container\" hidden><div class=\"sk-item\"><div class=\"sk-estimator sk-toggleable\"><input class=\"sk-toggleable__control sk-hidden--visually\" id=\"sk-estimator-id-1\" type=\"checkbox\" checked><label for=\"sk-estimator-id-1\" class=\"sk-toggleable__label sk-toggleable__label-arrow\">RandomForestRegressor</label><div class=\"sk-toggleable__content\"><pre>RandomForestRegressor(max_features=17, n_estimators=150)</pre></div></div></div></div></div>"
      ],
      "text/plain": [
       "RandomForestRegressor(max_features=17, n_estimators=150)"
      ]
     },
     "execution_count": 32,
     "metadata": {},
     "output_type": "execute_result"
    }
   ],
   "source": [
    "ridge = Ridge(alpha=15)\n",
    "rf = RandomForestRegressor(n_estimators=150, max_features=max_features)\n",
    "\n",
    "ridge.fit(X_train, y_train)\n",
    "rf.fit(X_train, y_train)"
   ]
  },
  {
   "cell_type": "code",
   "execution_count": 33,
   "id": "c9d3b0db",
   "metadata": {
    "execution": {
     "iopub.execute_input": "2024-06-13T01:13:02.988905Z",
     "iopub.status.busy": "2024-06-13T01:13:02.988473Z",
     "iopub.status.idle": "2024-06-13T01:13:03.146383Z",
     "shell.execute_reply": "2024-06-13T01:13:03.145052Z"
    },
    "papermill": {
     "duration": 0.183889,
     "end_time": "2024-06-13T01:13:03.149025",
     "exception": false,
     "start_time": "2024-06-13T01:13:02.965136",
     "status": "completed"
    },
    "tags": []
   },
   "outputs": [
    {
     "name": "stdout",
     "output_type": "stream",
     "text": [
      "0.9191646266957372\n",
      "0.9816194869225836\n"
     ]
    }
   ],
   "source": [
    "ridge_predict = ridge.predict(X_test)\n",
    "ridge_test_score = ridge.score(X_train, y_train)\n",
    "print(ridge_test_score)\n",
    "\n",
    "rf_predict = rf.predict(X_test)\n",
    "rf_test_score = rf.score(X_train, y_train)\n",
    "print(rf_test_score)\n",
    "\n",
    "# convert log values back\n",
    "y_ridge = np.expm1(ridge_predict)\n",
    "y_rf = np.expm1(rf_predict)"
   ]
  },
  {
   "cell_type": "markdown",
   "id": "3f073960",
   "metadata": {
    "papermill": {
     "duration": 0.02041,
     "end_time": "2024-06-13T01:13:03.190189",
     "exception": false,
     "start_time": "2024-06-13T01:13:03.169779",
     "status": "completed"
    },
    "tags": []
   },
   "source": [
    "While random forest test score = 0.98 is better than ridge test score = 0.92, there is a chance that random forest model is overfitting."
   ]
  },
  {
   "cell_type": "code",
   "execution_count": 34,
   "id": "593e0af5",
   "metadata": {
    "execution": {
     "iopub.execute_input": "2024-06-13T01:13:03.233540Z",
     "iopub.status.busy": "2024-06-13T01:13:03.233139Z",
     "iopub.status.idle": "2024-06-13T01:13:03.242298Z",
     "shell.execute_reply": "2024-06-13T01:13:03.240923Z"
    },
    "papermill": {
     "duration": 0.034085,
     "end_time": "2024-06-13T01:13:03.245139",
     "exception": false,
     "start_time": "2024-06-13T01:13:03.211054",
     "status": "completed"
    },
    "tags": []
   },
   "outputs": [
    {
     "data": {
      "text/plain": [
       "(array([210377.45792476, 196560.11141597, 218832.57316081, ...,\n",
       "        202753.55943997, 245638.28477862, 147396.63051224]),\n",
       " array([209400.52564904, 176736.66999746, 222636.05723391, ...,\n",
       "        203728.76968389, 241724.91907088, 137302.71627727]))"
      ]
     },
     "execution_count": 34,
     "metadata": {},
     "output_type": "execute_result"
    }
   ],
   "source": [
    "y_ridge, y_rf"
   ]
  },
  {
   "cell_type": "code",
   "execution_count": 35,
   "id": "61e7b31b",
   "metadata": {
    "execution": {
     "iopub.execute_input": "2024-06-13T01:13:03.292226Z",
     "iopub.status.busy": "2024-06-13T01:13:03.291776Z",
     "iopub.status.idle": "2024-06-13T01:13:03.300775Z",
     "shell.execute_reply": "2024-06-13T01:13:03.299298Z"
    },
    "papermill": {
     "duration": 0.035937,
     "end_time": "2024-06-13T01:13:03.303755",
     "exception": false,
     "start_time": "2024-06-13T01:13:03.267818",
     "status": "completed"
    },
    "tags": []
   },
   "outputs": [
    {
     "data": {
      "text/plain": [
       "array([209888.9917869 , 186648.39070671, 220734.31519736, ...,\n",
       "       203241.16456193, 243681.60192475, 142349.67339475])"
      ]
     },
     "execution_count": 35,
     "metadata": {},
     "output_type": "execute_result"
    }
   ],
   "source": [
    "# creating the ensemble model\n",
    "y_final = (y_ridge+y_rf)/2\n",
    "y_final"
   ]
  },
  {
   "cell_type": "code",
   "execution_count": 36,
   "id": "c39743e7",
   "metadata": {
    "execution": {
     "iopub.execute_input": "2024-06-13T01:13:03.354838Z",
     "iopub.status.busy": "2024-06-13T01:13:03.354378Z",
     "iopub.status.idle": "2024-06-13T01:13:04.464512Z",
     "shell.execute_reply": "2024-06-13T01:13:04.463091Z"
    },
    "papermill": {
     "duration": 1.140315,
     "end_time": "2024-06-13T01:13:04.467949",
     "exception": false,
     "start_time": "2024-06-13T01:13:03.327634",
     "status": "completed"
    },
    "tags": []
   },
   "outputs": [
    {
     "data": {
      "text/plain": [
       "0.9613410807690899"
      ]
     },
     "execution_count": 36,
     "metadata": {},
     "output_type": "execute_result"
    }
   ],
   "source": [
    "from sklearn.ensemble import VotingRegressor\n",
    "from sklearn.metrics import r2_score\n",
    "\n",
    "ensemble = VotingRegressor(estimators=[('ridge', ridge),\n",
    "                                      ('random_forest', rf)])\n",
    "\n",
    "ensemble.fit(X_train, y_train)\n",
    "y_pred = ensemble.predict(X_train)\n",
    "\n",
    "ensemble_score = r2_score(y_train, y_pred)\n",
    "ensemble_score"
   ]
  },
  {
   "cell_type": "markdown",
   "id": "71303717",
   "metadata": {
    "papermill": {
     "duration": 0.02181,
     "end_time": "2024-06-13T01:13:04.521053",
     "exception": false,
     "start_time": "2024-06-13T01:13:04.499243",
     "status": "completed"
    },
    "tags": []
   },
   "source": [
    "Despite the Random Forest model yielding a slightly higher score (0.98), opting for the ensemble score (0.96) can enhance generalization and robustness due to its ability to mitigate overfitting and capture complex data relationships from multiple models."
   ]
  },
  {
   "cell_type": "code",
   "execution_count": 37,
   "id": "8ac4d337",
   "metadata": {
    "execution": {
     "iopub.execute_input": "2024-06-13T01:13:04.568803Z",
     "iopub.status.busy": "2024-06-13T01:13:04.568327Z",
     "iopub.status.idle": "2024-06-13T01:13:04.578005Z",
     "shell.execute_reply": "2024-06-13T01:13:04.576566Z"
    },
    "papermill": {
     "duration": 0.036361,
     "end_time": "2024-06-13T01:13:04.580564",
     "exception": false,
     "start_time": "2024-06-13T01:13:04.544203",
     "status": "completed"
    },
    "tags": []
   },
   "outputs": [
    {
     "data": {
      "text/plain": [
       "array([210200.84147397, 187136.29262667, 220373.75605495, ...,\n",
       "       246003.23392946, 143307.95310573, 145527.21002481])"
      ]
     },
     "execution_count": 37,
     "metadata": {},
     "output_type": "execute_result"
    }
   ],
   "source": [
    "y_ensemble = np.expm1(y_pred)\n",
    "y_ensemble"
   ]
  },
  {
   "cell_type": "code",
   "execution_count": null,
   "id": "55645fd5",
   "metadata": {
    "papermill": {
     "duration": 0.021331,
     "end_time": "2024-06-13T01:13:04.624306",
     "exception": false,
     "start_time": "2024-06-13T01:13:04.602975",
     "status": "completed"
    },
    "tags": []
   },
   "outputs": [],
   "source": []
  }
 ],
 "metadata": {
  "kaggle": {
   "accelerator": "none",
   "dataSources": [
    {
     "databundleVersionId": 868283,
     "sourceId": 5407,
     "sourceType": "competition"
    }
   ],
   "dockerImageVersionId": 30698,
   "isGpuEnabled": false,
   "isInternetEnabled": true,
   "language": "python",
   "sourceType": "notebook"
  },
  "kernelspec": {
   "display_name": "Python 3",
   "language": "python",
   "name": "python3"
  },
  "language_info": {
   "codemirror_mode": {
    "name": "ipython",
    "version": 3
   },
   "file_extension": ".py",
   "mimetype": "text/x-python",
   "name": "python",
   "nbconvert_exporter": "python",
   "pygments_lexer": "ipython3",
   "version": "3.10.13"
  },
  "papermill": {
   "default_parameters": {},
   "duration": 86.298886,
   "end_time": "2024-06-13T01:13:05.671649",
   "environment_variables": {},
   "exception": null,
   "input_path": "__notebook__.ipynb",
   "output_path": "__notebook__.ipynb",
   "parameters": {},
   "start_time": "2024-06-13T01:11:39.372763",
   "version": "2.5.0"
  }
 },
 "nbformat": 4,
 "nbformat_minor": 5
}
